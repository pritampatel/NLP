{
  "nbformat": 4,
  "nbformat_minor": 0,
  "metadata": {
    "kernelspec": {
      "display_name": "Python 3",
      "language": "python",
      "name": "python3"
    },
    "language_info": {
      "codemirror_mode": {
        "name": "ipython",
        "version": 3
      },
      "file_extension": ".py",
      "mimetype": "text/x-python",
      "name": "python",
      "nbconvert_exporter": "python",
      "pygments_lexer": "ipython3",
      "version": "3.7.6"
    },
    "papermill": {
      "duration": 2562.365197,
      "end_time": "2020-11-28T09:24:39.511805",
      "environment_variables": {},
      "exception": null,
      "input_path": "__notebook__.ipynb",
      "output_path": "__notebook__.ipynb",
      "parameters": {},
      "start_time": "2020-11-28T08:41:57.146608",
      "version": "2.1.0"
    },
    "colab": {
      "name": "news-classification-using-bert.ipynb",
      "provenance": [],
      "toc_visible": true
    },
    "accelerator": "GPU",
    "widgets": {
      "application/vnd.jupyter.widget-state+json": {
        "c920fe61e3184ecab3105ddbf3c006ae": {
          "model_module": "@jupyter-widgets/controls",
          "model_name": "HBoxModel",
          "state": {
            "_view_name": "HBoxView",
            "_dom_classes": [],
            "_model_name": "HBoxModel",
            "_view_module": "@jupyter-widgets/controls",
            "_model_module_version": "1.5.0",
            "_view_count": null,
            "_view_module_version": "1.5.0",
            "box_style": "",
            "layout": "IPY_MODEL_b84b72ec55724b93b1ed401745c55f68",
            "_model_module": "@jupyter-widgets/controls",
            "children": [
              "IPY_MODEL_7280f7235e2d453e9177d9265ab6ab05",
              "IPY_MODEL_cb3c72e2e9a54bd4a765f768d5ff4be3"
            ]
          }
        },
        "b84b72ec55724b93b1ed401745c55f68": {
          "model_module": "@jupyter-widgets/base",
          "model_name": "LayoutModel",
          "state": {
            "_view_name": "LayoutView",
            "grid_template_rows": null,
            "right": null,
            "justify_content": null,
            "_view_module": "@jupyter-widgets/base",
            "overflow": null,
            "_model_module_version": "1.2.0",
            "_view_count": null,
            "flex_flow": null,
            "width": null,
            "min_width": null,
            "border": null,
            "align_items": null,
            "bottom": null,
            "_model_module": "@jupyter-widgets/base",
            "top": null,
            "grid_column": null,
            "overflow_y": null,
            "overflow_x": null,
            "grid_auto_flow": null,
            "grid_area": null,
            "grid_template_columns": null,
            "flex": null,
            "_model_name": "LayoutModel",
            "justify_items": null,
            "grid_row": null,
            "max_height": null,
            "align_content": null,
            "visibility": null,
            "align_self": null,
            "height": null,
            "min_height": null,
            "padding": null,
            "grid_auto_rows": null,
            "grid_gap": null,
            "max_width": null,
            "order": null,
            "_view_module_version": "1.2.0",
            "grid_template_areas": null,
            "object_position": null,
            "object_fit": null,
            "grid_auto_columns": null,
            "margin": null,
            "display": null,
            "left": null
          }
        },
        "7280f7235e2d453e9177d9265ab6ab05": {
          "model_module": "@jupyter-widgets/controls",
          "model_name": "FloatProgressModel",
          "state": {
            "_view_name": "ProgressView",
            "style": "IPY_MODEL_48f8d37654924121a52857639bdf8d9c",
            "_dom_classes": [],
            "description": "Downloading: 100%",
            "_model_name": "FloatProgressModel",
            "bar_style": "success",
            "max": 231508,
            "_view_module": "@jupyter-widgets/controls",
            "_model_module_version": "1.5.0",
            "value": 231508,
            "_view_count": null,
            "_view_module_version": "1.5.0",
            "orientation": "horizontal",
            "min": 0,
            "description_tooltip": null,
            "_model_module": "@jupyter-widgets/controls",
            "layout": "IPY_MODEL_6a9bb147b9604d33b9c8e11103ee2e84"
          }
        },
        "cb3c72e2e9a54bd4a765f768d5ff4be3": {
          "model_module": "@jupyter-widgets/controls",
          "model_name": "HTMLModel",
          "state": {
            "_view_name": "HTMLView",
            "style": "IPY_MODEL_1c9bbc696252443b827b78147cdab109",
            "_dom_classes": [],
            "description": "",
            "_model_name": "HTMLModel",
            "placeholder": "​",
            "_view_module": "@jupyter-widgets/controls",
            "_model_module_version": "1.5.0",
            "value": " 232k/232k [00:15&lt;00:00, 15.2kB/s]",
            "_view_count": null,
            "_view_module_version": "1.5.0",
            "description_tooltip": null,
            "_model_module": "@jupyter-widgets/controls",
            "layout": "IPY_MODEL_36371d8881d0431990b27c02db672c2d"
          }
        },
        "48f8d37654924121a52857639bdf8d9c": {
          "model_module": "@jupyter-widgets/controls",
          "model_name": "ProgressStyleModel",
          "state": {
            "_view_name": "StyleView",
            "_model_name": "ProgressStyleModel",
            "description_width": "initial",
            "_view_module": "@jupyter-widgets/base",
            "_model_module_version": "1.5.0",
            "_view_count": null,
            "_view_module_version": "1.2.0",
            "bar_color": null,
            "_model_module": "@jupyter-widgets/controls"
          }
        },
        "6a9bb147b9604d33b9c8e11103ee2e84": {
          "model_module": "@jupyter-widgets/base",
          "model_name": "LayoutModel",
          "state": {
            "_view_name": "LayoutView",
            "grid_template_rows": null,
            "right": null,
            "justify_content": null,
            "_view_module": "@jupyter-widgets/base",
            "overflow": null,
            "_model_module_version": "1.2.0",
            "_view_count": null,
            "flex_flow": null,
            "width": null,
            "min_width": null,
            "border": null,
            "align_items": null,
            "bottom": null,
            "_model_module": "@jupyter-widgets/base",
            "top": null,
            "grid_column": null,
            "overflow_y": null,
            "overflow_x": null,
            "grid_auto_flow": null,
            "grid_area": null,
            "grid_template_columns": null,
            "flex": null,
            "_model_name": "LayoutModel",
            "justify_items": null,
            "grid_row": null,
            "max_height": null,
            "align_content": null,
            "visibility": null,
            "align_self": null,
            "height": null,
            "min_height": null,
            "padding": null,
            "grid_auto_rows": null,
            "grid_gap": null,
            "max_width": null,
            "order": null,
            "_view_module_version": "1.2.0",
            "grid_template_areas": null,
            "object_position": null,
            "object_fit": null,
            "grid_auto_columns": null,
            "margin": null,
            "display": null,
            "left": null
          }
        },
        "1c9bbc696252443b827b78147cdab109": {
          "model_module": "@jupyter-widgets/controls",
          "model_name": "DescriptionStyleModel",
          "state": {
            "_view_name": "StyleView",
            "_model_name": "DescriptionStyleModel",
            "description_width": "",
            "_view_module": "@jupyter-widgets/base",
            "_model_module_version": "1.5.0",
            "_view_count": null,
            "_view_module_version": "1.2.0",
            "_model_module": "@jupyter-widgets/controls"
          }
        },
        "36371d8881d0431990b27c02db672c2d": {
          "model_module": "@jupyter-widgets/base",
          "model_name": "LayoutModel",
          "state": {
            "_view_name": "LayoutView",
            "grid_template_rows": null,
            "right": null,
            "justify_content": null,
            "_view_module": "@jupyter-widgets/base",
            "overflow": null,
            "_model_module_version": "1.2.0",
            "_view_count": null,
            "flex_flow": null,
            "width": null,
            "min_width": null,
            "border": null,
            "align_items": null,
            "bottom": null,
            "_model_module": "@jupyter-widgets/base",
            "top": null,
            "grid_column": null,
            "overflow_y": null,
            "overflow_x": null,
            "grid_auto_flow": null,
            "grid_area": null,
            "grid_template_columns": null,
            "flex": null,
            "_model_name": "LayoutModel",
            "justify_items": null,
            "grid_row": null,
            "max_height": null,
            "align_content": null,
            "visibility": null,
            "align_self": null,
            "height": null,
            "min_height": null,
            "padding": null,
            "grid_auto_rows": null,
            "grid_gap": null,
            "max_width": null,
            "order": null,
            "_view_module_version": "1.2.0",
            "grid_template_areas": null,
            "object_position": null,
            "object_fit": null,
            "grid_auto_columns": null,
            "margin": null,
            "display": null,
            "left": null
          }
        },
        "33b08d0db33744c19dc4afd0f5d352f7": {
          "model_module": "@jupyter-widgets/controls",
          "model_name": "HBoxModel",
          "state": {
            "_view_name": "HBoxView",
            "_dom_classes": [],
            "_model_name": "HBoxModel",
            "_view_module": "@jupyter-widgets/controls",
            "_model_module_version": "1.5.0",
            "_view_count": null,
            "_view_module_version": "1.5.0",
            "box_style": "",
            "layout": "IPY_MODEL_147f4504ee364a8aa96fa6a9ab40cdb0",
            "_model_module": "@jupyter-widgets/controls",
            "children": [
              "IPY_MODEL_5d3c4100ac034affb806851c05d8195b",
              "IPY_MODEL_f7e5a7af0de94d1db4d5dc61a8454d5e"
            ]
          }
        },
        "147f4504ee364a8aa96fa6a9ab40cdb0": {
          "model_module": "@jupyter-widgets/base",
          "model_name": "LayoutModel",
          "state": {
            "_view_name": "LayoutView",
            "grid_template_rows": null,
            "right": null,
            "justify_content": null,
            "_view_module": "@jupyter-widgets/base",
            "overflow": null,
            "_model_module_version": "1.2.0",
            "_view_count": null,
            "flex_flow": null,
            "width": null,
            "min_width": null,
            "border": null,
            "align_items": null,
            "bottom": null,
            "_model_module": "@jupyter-widgets/base",
            "top": null,
            "grid_column": null,
            "overflow_y": null,
            "overflow_x": null,
            "grid_auto_flow": null,
            "grid_area": null,
            "grid_template_columns": null,
            "flex": null,
            "_model_name": "LayoutModel",
            "justify_items": null,
            "grid_row": null,
            "max_height": null,
            "align_content": null,
            "visibility": null,
            "align_self": null,
            "height": null,
            "min_height": null,
            "padding": null,
            "grid_auto_rows": null,
            "grid_gap": null,
            "max_width": null,
            "order": null,
            "_view_module_version": "1.2.0",
            "grid_template_areas": null,
            "object_position": null,
            "object_fit": null,
            "grid_auto_columns": null,
            "margin": null,
            "display": null,
            "left": null
          }
        },
        "5d3c4100ac034affb806851c05d8195b": {
          "model_module": "@jupyter-widgets/controls",
          "model_name": "FloatProgressModel",
          "state": {
            "_view_name": "ProgressView",
            "style": "IPY_MODEL_6e9eb06180a34932b631a5732d833055",
            "_dom_classes": [],
            "description": "Downloading: 100%",
            "_model_name": "FloatProgressModel",
            "bar_style": "success",
            "max": 466062,
            "_view_module": "@jupyter-widgets/controls",
            "_model_module_version": "1.5.0",
            "value": 466062,
            "_view_count": null,
            "_view_module_version": "1.5.0",
            "orientation": "horizontal",
            "min": 0,
            "description_tooltip": null,
            "_model_module": "@jupyter-widgets/controls",
            "layout": "IPY_MODEL_4c259ff9175b47fe9a71898ef6a65b7b"
          }
        },
        "f7e5a7af0de94d1db4d5dc61a8454d5e": {
          "model_module": "@jupyter-widgets/controls",
          "model_name": "HTMLModel",
          "state": {
            "_view_name": "HTMLView",
            "style": "IPY_MODEL_5b8f2c61277b4e44bfd013cdf07d5928",
            "_dom_classes": [],
            "description": "",
            "_model_name": "HTMLModel",
            "placeholder": "​",
            "_view_module": "@jupyter-widgets/controls",
            "_model_module_version": "1.5.0",
            "value": " 466k/466k [00:14&lt;00:00, 32.1kB/s]",
            "_view_count": null,
            "_view_module_version": "1.5.0",
            "description_tooltip": null,
            "_model_module": "@jupyter-widgets/controls",
            "layout": "IPY_MODEL_640d1ada821e4515b7fb8cc2e8d62ab0"
          }
        },
        "6e9eb06180a34932b631a5732d833055": {
          "model_module": "@jupyter-widgets/controls",
          "model_name": "ProgressStyleModel",
          "state": {
            "_view_name": "StyleView",
            "_model_name": "ProgressStyleModel",
            "description_width": "initial",
            "_view_module": "@jupyter-widgets/base",
            "_model_module_version": "1.5.0",
            "_view_count": null,
            "_view_module_version": "1.2.0",
            "bar_color": null,
            "_model_module": "@jupyter-widgets/controls"
          }
        },
        "4c259ff9175b47fe9a71898ef6a65b7b": {
          "model_module": "@jupyter-widgets/base",
          "model_name": "LayoutModel",
          "state": {
            "_view_name": "LayoutView",
            "grid_template_rows": null,
            "right": null,
            "justify_content": null,
            "_view_module": "@jupyter-widgets/base",
            "overflow": null,
            "_model_module_version": "1.2.0",
            "_view_count": null,
            "flex_flow": null,
            "width": null,
            "min_width": null,
            "border": null,
            "align_items": null,
            "bottom": null,
            "_model_module": "@jupyter-widgets/base",
            "top": null,
            "grid_column": null,
            "overflow_y": null,
            "overflow_x": null,
            "grid_auto_flow": null,
            "grid_area": null,
            "grid_template_columns": null,
            "flex": null,
            "_model_name": "LayoutModel",
            "justify_items": null,
            "grid_row": null,
            "max_height": null,
            "align_content": null,
            "visibility": null,
            "align_self": null,
            "height": null,
            "min_height": null,
            "padding": null,
            "grid_auto_rows": null,
            "grid_gap": null,
            "max_width": null,
            "order": null,
            "_view_module_version": "1.2.0",
            "grid_template_areas": null,
            "object_position": null,
            "object_fit": null,
            "grid_auto_columns": null,
            "margin": null,
            "display": null,
            "left": null
          }
        },
        "5b8f2c61277b4e44bfd013cdf07d5928": {
          "model_module": "@jupyter-widgets/controls",
          "model_name": "DescriptionStyleModel",
          "state": {
            "_view_name": "StyleView",
            "_model_name": "DescriptionStyleModel",
            "description_width": "",
            "_view_module": "@jupyter-widgets/base",
            "_model_module_version": "1.5.0",
            "_view_count": null,
            "_view_module_version": "1.2.0",
            "_model_module": "@jupyter-widgets/controls"
          }
        },
        "640d1ada821e4515b7fb8cc2e8d62ab0": {
          "model_module": "@jupyter-widgets/base",
          "model_name": "LayoutModel",
          "state": {
            "_view_name": "LayoutView",
            "grid_template_rows": null,
            "right": null,
            "justify_content": null,
            "_view_module": "@jupyter-widgets/base",
            "overflow": null,
            "_model_module_version": "1.2.0",
            "_view_count": null,
            "flex_flow": null,
            "width": null,
            "min_width": null,
            "border": null,
            "align_items": null,
            "bottom": null,
            "_model_module": "@jupyter-widgets/base",
            "top": null,
            "grid_column": null,
            "overflow_y": null,
            "overflow_x": null,
            "grid_auto_flow": null,
            "grid_area": null,
            "grid_template_columns": null,
            "flex": null,
            "_model_name": "LayoutModel",
            "justify_items": null,
            "grid_row": null,
            "max_height": null,
            "align_content": null,
            "visibility": null,
            "align_self": null,
            "height": null,
            "min_height": null,
            "padding": null,
            "grid_auto_rows": null,
            "grid_gap": null,
            "max_width": null,
            "order": null,
            "_view_module_version": "1.2.0",
            "grid_template_areas": null,
            "object_position": null,
            "object_fit": null,
            "grid_auto_columns": null,
            "margin": null,
            "display": null,
            "left": null
          }
        }
      }
    }
  },
  "cells": [
    {
      "cell_type": "markdown",
      "metadata": {
        "papermill": {
          "duration": 0.029185,
          "end_time": "2020-11-28T08:42:02.177872",
          "exception": false,
          "start_time": "2020-11-28T08:42:02.148687",
          "status": "completed"
        },
        "tags": [],
        "id": "bRZKBteuj13M"
      },
      "source": [
        "![](https://miro.medium.com/max/700/1*HgXA9v1EsqlrRDaC_iORhQ.png)"
      ]
    },
    {
      "cell_type": "markdown",
      "metadata": {
        "papermill": {
          "duration": 0.027118,
          "end_time": "2020-11-28T08:42:02.233180",
          "exception": false,
          "start_time": "2020-11-28T08:42:02.206062",
          "status": "completed"
        },
        "tags": [],
        "id": "BdlGhgHHj13a"
      },
      "source": [
        "## Importing Necessary Libraries"
      ]
    },
    {
      "cell_type": "code",
      "metadata": {
        "id": "kWRQDyjtUPyM"
      },
      "source": [
        ""
      ],
      "execution_count": null,
      "outputs": []
    },
    {
      "cell_type": "code",
      "metadata": {
        "colab": {
          "base_uri": "https://localhost:8080/"
        },
        "id": "me0RL0X3UQDd",
        "outputId": "27a4e361-9452-412b-93b5-364bfc9376b2"
      },
      "source": [
        "from google.colab import drive\n",
        "drive.mount('/content/drive')"
      ],
      "execution_count": null,
      "outputs": [
        {
          "output_type": "stream",
          "text": [
            "Drive already mounted at /content/drive; to attempt to forcibly remount, call drive.mount(\"/content/drive\", force_remount=True).\n"
          ],
          "name": "stdout"
        }
      ]
    },
    {
      "cell_type": "code",
      "metadata": {
        "id": "k-H7eCLstQ9J"
      },
      "source": [
        "import tensorflow as tf\n"
      ],
      "execution_count": null,
      "outputs": []
    },
    {
      "cell_type": "code",
      "metadata": {
        "colab": {
          "base_uri": "https://localhost:8080/"
        },
        "id": "fE-clDA9tFxQ",
        "outputId": "7971c52b-b816-4065-bfe9-8851b7fc2018"
      },
      "source": [
        "print(\"Num GPUs Available: \", len(tf.config.list_physical_devices('GPU')))"
      ],
      "execution_count": null,
      "outputs": [
        {
          "output_type": "stream",
          "text": [
            "Num GPUs Available:  1\n"
          ],
          "name": "stdout"
        }
      ]
    },
    {
      "cell_type": "code",
      "metadata": {
        "colab": {
          "base_uri": "https://localhost:8080/"
        },
        "id": "XZVDdPNYtGlY",
        "outputId": "2e9a94bd-5fc2-4743-fb6b-60b8b63a958b"
      },
      "source": [
        "!nvidia-smi"
      ],
      "execution_count": null,
      "outputs": [
        {
          "output_type": "stream",
          "text": [
            "Sat Mar 13 13:11:08 2021       \n",
            "+-----------------------------------------------------------------------------+\n",
            "| NVIDIA-SMI 460.56       Driver Version: 460.32.03    CUDA Version: 11.2     |\n",
            "|-------------------------------+----------------------+----------------------+\n",
            "| GPU  Name        Persistence-M| Bus-Id        Disp.A | Volatile Uncorr. ECC |\n",
            "| Fan  Temp  Perf  Pwr:Usage/Cap|         Memory-Usage | GPU-Util  Compute M. |\n",
            "|                               |                      |               MIG M. |\n",
            "|===============================+======================+======================|\n",
            "|   0  Tesla T4            Off  | 00000000:00:04.0 Off |                    0 |\n",
            "| N/A   43C    P8     9W /  70W |      3MiB / 15109MiB |      0%      Default |\n",
            "|                               |                      |                  N/A |\n",
            "+-------------------------------+----------------------+----------------------+\n",
            "                                                                               \n",
            "+-----------------------------------------------------------------------------+\n",
            "| Processes:                                                                  |\n",
            "|  GPU   GI   CI        PID   Type   Process name                  GPU Memory |\n",
            "|        ID   ID                                                   Usage      |\n",
            "|=============================================================================|\n",
            "|  No running processes found                                                 |\n",
            "+-----------------------------------------------------------------------------+\n"
          ],
          "name": "stdout"
        }
      ]
    },
    {
      "cell_type": "code",
      "metadata": {
        "colab": {
          "base_uri": "https://localhost:8080/"
        },
        "id": "WHGlAKJvktib",
        "outputId": "e3ae8582-0a1f-4406-b903-de626d3cda6e"
      },
      "source": [
        "!pip install transformers\n",
        "!pip install kaggle"
      ],
      "execution_count": null,
      "outputs": [
        {
          "output_type": "stream",
          "text": [
            "Requirement already satisfied: transformers in /usr/local/lib/python3.7/dist-packages (4.3.3)\n",
            "Requirement already satisfied: numpy>=1.17 in /usr/local/lib/python3.7/dist-packages (from transformers) (1.19.5)\n",
            "Requirement already satisfied: sacremoses in /usr/local/lib/python3.7/dist-packages (from transformers) (0.0.43)\n",
            "Requirement already satisfied: tqdm>=4.27 in /usr/local/lib/python3.7/dist-packages (from transformers) (4.41.1)\n",
            "Requirement already satisfied: importlib-metadata; python_version < \"3.8\" in /usr/local/lib/python3.7/dist-packages (from transformers) (3.7.0)\n",
            "Requirement already satisfied: tokenizers<0.11,>=0.10.1 in /usr/local/lib/python3.7/dist-packages (from transformers) (0.10.1)\n",
            "Requirement already satisfied: filelock in /usr/local/lib/python3.7/dist-packages (from transformers) (3.0.12)\n",
            "Requirement already satisfied: requests in /usr/local/lib/python3.7/dist-packages (from transformers) (2.23.0)\n",
            "Requirement already satisfied: packaging in /usr/local/lib/python3.7/dist-packages (from transformers) (20.9)\n",
            "Requirement already satisfied: regex!=2019.12.17 in /usr/local/lib/python3.7/dist-packages (from transformers) (2019.12.20)\n",
            "Requirement already satisfied: joblib in /usr/local/lib/python3.7/dist-packages (from sacremoses->transformers) (1.0.1)\n",
            "Requirement already satisfied: click in /usr/local/lib/python3.7/dist-packages (from sacremoses->transformers) (7.1.2)\n",
            "Requirement already satisfied: six in /usr/local/lib/python3.7/dist-packages (from sacremoses->transformers) (1.15.0)\n",
            "Requirement already satisfied: typing-extensions>=3.6.4; python_version < \"3.8\" in /usr/local/lib/python3.7/dist-packages (from importlib-metadata; python_version < \"3.8\"->transformers) (3.7.4.3)\n",
            "Requirement already satisfied: zipp>=0.5 in /usr/local/lib/python3.7/dist-packages (from importlib-metadata; python_version < \"3.8\"->transformers) (3.4.1)\n",
            "Requirement already satisfied: idna<3,>=2.5 in /usr/local/lib/python3.7/dist-packages (from requests->transformers) (2.10)\n",
            "Requirement already satisfied: chardet<4,>=3.0.2 in /usr/local/lib/python3.7/dist-packages (from requests->transformers) (3.0.4)\n",
            "Requirement already satisfied: certifi>=2017.4.17 in /usr/local/lib/python3.7/dist-packages (from requests->transformers) (2020.12.5)\n",
            "Requirement already satisfied: urllib3!=1.25.0,!=1.25.1,<1.26,>=1.21.1 in /usr/local/lib/python3.7/dist-packages (from requests->transformers) (1.24.3)\n",
            "Requirement already satisfied: pyparsing>=2.0.2 in /usr/local/lib/python3.7/dist-packages (from packaging->transformers) (2.4.7)\n",
            "Requirement already satisfied: kaggle in /usr/local/lib/python3.7/dist-packages (1.5.10)\n",
            "Requirement already satisfied: python-slugify in /usr/local/lib/python3.7/dist-packages (from kaggle) (4.0.1)\n",
            "Requirement already satisfied: requests in /usr/local/lib/python3.7/dist-packages (from kaggle) (2.23.0)\n",
            "Requirement already satisfied: certifi in /usr/local/lib/python3.7/dist-packages (from kaggle) (2020.12.5)\n",
            "Requirement already satisfied: urllib3 in /usr/local/lib/python3.7/dist-packages (from kaggle) (1.24.3)\n",
            "Requirement already satisfied: tqdm in /usr/local/lib/python3.7/dist-packages (from kaggle) (4.41.1)\n",
            "Requirement already satisfied: six>=1.10 in /usr/local/lib/python3.7/dist-packages (from kaggle) (1.15.0)\n",
            "Requirement already satisfied: python-dateutil in /usr/local/lib/python3.7/dist-packages (from kaggle) (2.8.1)\n",
            "Requirement already satisfied: text-unidecode>=1.3 in /usr/local/lib/python3.7/dist-packages (from python-slugify->kaggle) (1.3)\n",
            "Requirement already satisfied: chardet<4,>=3.0.2 in /usr/local/lib/python3.7/dist-packages (from requests->kaggle) (3.0.4)\n",
            "Requirement already satisfied: idna<3,>=2.5 in /usr/local/lib/python3.7/dist-packages (from requests->kaggle) (2.10)\n"
          ],
          "name": "stdout"
        }
      ]
    },
    {
      "cell_type": "code",
      "metadata": {
        "_cell_guid": "b1076dfc-b9ad-4769-8c92-a6c4dae69d19",
        "_uuid": "8f2839f25d086af736a60e9eeb907d3b93b6e0e5",
        "execution": {
          "iopub.execute_input": "2020-11-28T08:42:02.297534Z",
          "iopub.status.busy": "2020-11-28T08:42:02.296706Z",
          "iopub.status.idle": "2020-11-28T08:42:12.224628Z",
          "shell.execute_reply": "2020-11-28T08:42:12.223735Z"
        },
        "papermill": {
          "duration": 9.963996,
          "end_time": "2020-11-28T08:42:12.224778",
          "exception": false,
          "start_time": "2020-11-28T08:42:02.260782",
          "status": "completed"
        },
        "tags": [],
        "id": "mAm91wGlj13c"
      },
      "source": [
        "import pandas as pd\n",
        "import numpy as np\n",
        "\n",
        "import tensorflow as tf\n",
        "import transformers #huggingface transformers library\n",
        "\n",
        "from sklearn.model_selection import train_test_split\n",
        "from sklearn.preprocessing import LabelEncoder\n",
        "import sklearn\n",
        "from sklearn.metrics import confusion_matrix\n",
        "\n",
        "import seaborn as sns\n",
        "import matplotlib.pyplot as plt"
      ],
      "execution_count": null,
      "outputs": []
    },
    {
      "cell_type": "markdown",
      "metadata": {
        "papermill": {
          "duration": 0.028108,
          "end_time": "2020-11-28T08:42:12.281902",
          "exception": false,
          "start_time": "2020-11-28T08:42:12.253794",
          "status": "completed"
        },
        "tags": [],
        "id": "7KJ8d_zVj13f"
      },
      "source": [
        "## Configuration for TPUs\n",
        "\n",
        "The given news classifier is trained on using BERT model. Since, BERT is a very large model, it requires gpu's and tpu's to train quickly. Here, I have used TPU's provided by Kaggle to train this model."
      ]
    },
    {
      "cell_type": "code",
      "metadata": {
        "id": "6bL4bVKITNrX"
      },
      "source": [
        ""
      ],
      "execution_count": null,
      "outputs": []
    },
    {
      "cell_type": "code",
      "metadata": {
        "execution": {
          "iopub.execute_input": "2020-11-28T08:42:12.449505Z",
          "iopub.status.busy": "2020-11-28T08:42:12.396968Z",
          "iopub.status.idle": "2020-11-28T08:42:16.613521Z",
          "shell.execute_reply": "2020-11-28T08:42:16.612828Z"
        },
        "papermill": {
          "duration": 4.303644,
          "end_time": "2020-11-28T08:42:16.613652",
          "exception": false,
          "start_time": "2020-11-28T08:42:12.310008",
          "status": "completed"
        },
        "tags": [],
        "colab": {
          "base_uri": "https://localhost:8080/"
        },
        "id": "iAnAKO78j13g",
        "outputId": "c0877543-2a70-470d-9f3b-7460a33a2249"
      },
      "source": [
        "# Detect hardware, return appropriate distribution strategy\n",
        "try:\n",
        "    # TPU detection. No parameters necessary if TPU_NAME environment variable is\n",
        "    # set: this is always the case on Kaggle.\n",
        "    tpu = tf.distribute.cluster_resolver.TPUClusterResolver()\n",
        "    print('Running on TPU ', tpu.master())\n",
        "except ValueError:\n",
        "    tpu = None\n",
        "\n",
        "if tpu:\n",
        "    tf.config.experimental_connect_to_cluster(tpu)\n",
        "    tf.tpu.experimental.initialize_tpu_system(tpu)\n",
        "    strategy = tf.distribute.TPUStrategy(tpu)\n",
        "else:\n",
        "    # Default distribution strategy in Tensorflow. Works on CPU and single GPU.\n",
        "    strategy = tf.distribute.get_strategy()\n",
        "\n",
        "print(\"REPLICAS: \", strategy.num_replicas_in_sync)"
      ],
      "execution_count": null,
      "outputs": [
        {
          "output_type": "stream",
          "text": [
            "REPLICAS:  1\n"
          ],
          "name": "stdout"
        }
      ]
    },
    {
      "cell_type": "code",
      "metadata": {
        "id": "BP2Jh8tzkJQM"
      },
      "source": [
        ""
      ],
      "execution_count": null,
      "outputs": []
    },
    {
      "cell_type": "code",
      "metadata": {
        "id": "5nnykgS5kJAA"
      },
      "source": [
        "!cp /content/drive/MyDrive/kaggle.json /content/"
      ],
      "execution_count": null,
      "outputs": []
    },
    {
      "cell_type": "code",
      "metadata": {
        "colab": {
          "base_uri": "https://localhost:8080/"
        },
        "id": "zu1fCb8GkbQ5",
        "outputId": "87738250-11a2-4997-f23b-352365d7ae17"
      },
      "source": [
        "!mkdir -p ~/.kaggle\n",
        "!cp kaggle.json ~/.kaggle/\n",
        "\n",
        "# Check the file in its new directory\n",
        "!ls /root/.kaggle/\n",
        "\n",
        "# Check the file permission\n",
        "!ls -l ~/.kaggle/kaggle.json\n",
        "\n",
        "#Change the file permission\n",
        "# chmod 600 file – owner can read and write\n",
        "# chmod 700 file – owner can read, write and execute\n",
        "!chmod 600 ~/.kaggle/kaggle.json"
      ],
      "execution_count": null,
      "outputs": [
        {
          "output_type": "stream",
          "text": [
            "kaggle.json\n",
            "-rw------- 1 root root 67 Mar 13 13:11 /root/.kaggle/kaggle.json\n"
          ],
          "name": "stdout"
        }
      ]
    },
    {
      "cell_type": "code",
      "metadata": {
        "colab": {
          "base_uri": "https://localhost:8080/"
        },
        "id": "qFkyezsrkeUA",
        "outputId": "35bc07d8-3f52-4072-d8ad-b33adcffa093"
      },
      "source": [
        "!kaggle datasets download -d rmisra/news-category-dataset"
      ],
      "execution_count": null,
      "outputs": [
        {
          "output_type": "stream",
          "text": [
            "Downloading news-category-dataset.zip to /content\n",
            " 63% 16.0M/25.4M [00:00<00:00, 37.1MB/s]\n",
            "100% 25.4M/25.4M [00:00<00:00, 73.1MB/s]\n"
          ],
          "name": "stdout"
        }
      ]
    },
    {
      "cell_type": "code",
      "metadata": {
        "colab": {
          "base_uri": "https://localhost:8080/"
        },
        "id": "SeVrR0zxkhzg",
        "outputId": "92c14ce5-1f39-4843-fc6f-136f79197b0f"
      },
      "source": [
        "!unzip /content/news-category-dataset.zip"
      ],
      "execution_count": null,
      "outputs": [
        {
          "output_type": "stream",
          "text": [
            "Archive:  /content/news-category-dataset.zip\n",
            "  inflating: News_Category_Dataset_v2.json  \n"
          ],
          "name": "stdout"
        }
      ]
    },
    {
      "cell_type": "markdown",
      "metadata": {
        "papermill": {
          "duration": 0.029819,
          "end_time": "2020-11-28T08:42:16.673037",
          "exception": false,
          "start_time": "2020-11-28T08:42:16.643218",
          "status": "completed"
        },
        "tags": [],
        "id": "AZp6e4gzj13i"
      },
      "source": [
        "## Preprocessing"
      ]
    },
    {
      "cell_type": "code",
      "metadata": {
        "execution": {
          "iopub.execute_input": "2020-11-28T08:42:16.746496Z",
          "iopub.status.busy": "2020-11-28T08:42:16.745271Z",
          "iopub.status.idle": "2020-11-28T08:42:19.337025Z",
          "shell.execute_reply": "2020-11-28T08:42:19.336258Z"
        },
        "papermill": {
          "duration": 2.632181,
          "end_time": "2020-11-28T08:42:19.337177",
          "exception": false,
          "start_time": "2020-11-28T08:42:16.704996",
          "status": "completed"
        },
        "tags": [],
        "colab": {
          "base_uri": "https://localhost:8080/",
          "height": 357
        },
        "id": "oK-PM1a6j13j",
        "outputId": "6695a852-2cfa-4200-ae35-1efad6df45de"
      },
      "source": [
        "df = pd.read_json('/content/News_Category_Dataset_v2.json', lines = True)\n",
        "df.head()"
      ],
      "execution_count": null,
      "outputs": [
        {
          "output_type": "execute_result",
          "data": {
            "text/html": [
              "<div>\n",
              "<style scoped>\n",
              "    .dataframe tbody tr th:only-of-type {\n",
              "        vertical-align: middle;\n",
              "    }\n",
              "\n",
              "    .dataframe tbody tr th {\n",
              "        vertical-align: top;\n",
              "    }\n",
              "\n",
              "    .dataframe thead th {\n",
              "        text-align: right;\n",
              "    }\n",
              "</style>\n",
              "<table border=\"1\" class=\"dataframe\">\n",
              "  <thead>\n",
              "    <tr style=\"text-align: right;\">\n",
              "      <th></th>\n",
              "      <th>category</th>\n",
              "      <th>headline</th>\n",
              "      <th>authors</th>\n",
              "      <th>link</th>\n",
              "      <th>short_description</th>\n",
              "      <th>date</th>\n",
              "    </tr>\n",
              "  </thead>\n",
              "  <tbody>\n",
              "    <tr>\n",
              "      <th>0</th>\n",
              "      <td>CRIME</td>\n",
              "      <td>There Were 2 Mass Shootings In Texas Last Week...</td>\n",
              "      <td>Melissa Jeltsen</td>\n",
              "      <td>https://www.huffingtonpost.com/entry/texas-ama...</td>\n",
              "      <td>She left her husband. He killed their children...</td>\n",
              "      <td>2018-05-26</td>\n",
              "    </tr>\n",
              "    <tr>\n",
              "      <th>1</th>\n",
              "      <td>ENTERTAINMENT</td>\n",
              "      <td>Will Smith Joins Diplo And Nicky Jam For The 2...</td>\n",
              "      <td>Andy McDonald</td>\n",
              "      <td>https://www.huffingtonpost.com/entry/will-smit...</td>\n",
              "      <td>Of course it has a song.</td>\n",
              "      <td>2018-05-26</td>\n",
              "    </tr>\n",
              "    <tr>\n",
              "      <th>2</th>\n",
              "      <td>ENTERTAINMENT</td>\n",
              "      <td>Hugh Grant Marries For The First Time At Age 57</td>\n",
              "      <td>Ron Dicker</td>\n",
              "      <td>https://www.huffingtonpost.com/entry/hugh-gran...</td>\n",
              "      <td>The actor and his longtime girlfriend Anna Ebe...</td>\n",
              "      <td>2018-05-26</td>\n",
              "    </tr>\n",
              "    <tr>\n",
              "      <th>3</th>\n",
              "      <td>ENTERTAINMENT</td>\n",
              "      <td>Jim Carrey Blasts 'Castrato' Adam Schiff And D...</td>\n",
              "      <td>Ron Dicker</td>\n",
              "      <td>https://www.huffingtonpost.com/entry/jim-carre...</td>\n",
              "      <td>The actor gives Dems an ass-kicking for not fi...</td>\n",
              "      <td>2018-05-26</td>\n",
              "    </tr>\n",
              "    <tr>\n",
              "      <th>4</th>\n",
              "      <td>ENTERTAINMENT</td>\n",
              "      <td>Julianna Margulies Uses Donald Trump Poop Bags...</td>\n",
              "      <td>Ron Dicker</td>\n",
              "      <td>https://www.huffingtonpost.com/entry/julianna-...</td>\n",
              "      <td>The \"Dietland\" actress said using the bags is ...</td>\n",
              "      <td>2018-05-26</td>\n",
              "    </tr>\n",
              "  </tbody>\n",
              "</table>\n",
              "</div>"
            ],
            "text/plain": [
              "        category  ...       date\n",
              "0          CRIME  ... 2018-05-26\n",
              "1  ENTERTAINMENT  ... 2018-05-26\n",
              "2  ENTERTAINMENT  ... 2018-05-26\n",
              "3  ENTERTAINMENT  ... 2018-05-26\n",
              "4  ENTERTAINMENT  ... 2018-05-26\n",
              "\n",
              "[5 rows x 6 columns]"
            ]
          },
          "metadata": {
            "tags": []
          },
          "execution_count": 20
        }
      ]
    },
    {
      "cell_type": "code",
      "metadata": {
        "execution": {
          "iopub.execute_input": "2020-11-28T08:42:19.407420Z",
          "iopub.status.busy": "2020-11-28T08:42:19.403678Z",
          "iopub.status.idle": "2020-11-28T08:42:19.505532Z",
          "shell.execute_reply": "2020-11-28T08:42:19.506166Z"
        },
        "papermill": {
          "duration": 0.138224,
          "end_time": "2020-11-28T08:42:19.506354",
          "exception": false,
          "start_time": "2020-11-28T08:42:19.368130",
          "status": "completed"
        },
        "tags": [],
        "id": "AHrlNQooj13k"
      },
      "source": [
        "# WORLDPOST and THE WORLDPOST were given as two separate categories in the dataset. Here I change the category THE WORLDPOST to WORLDPOST \n",
        "df.category = df.category.map(lambda x: \"WORLDPOST\" if x == \"THE WORLDPOST\" else x)"
      ],
      "execution_count": null,
      "outputs": []
    },
    {
      "cell_type": "code",
      "metadata": {
        "execution": {
          "iopub.execute_input": "2020-11-28T08:42:19.593468Z",
          "iopub.status.busy": "2020-11-28T08:42:19.592659Z",
          "iopub.status.idle": "2020-11-28T08:42:19.615784Z",
          "shell.execute_reply": "2020-11-28T08:42:19.615019Z"
        },
        "papermill": {
          "duration": 0.078968,
          "end_time": "2020-11-28T08:42:19.615907",
          "exception": false,
          "start_time": "2020-11-28T08:42:19.536939",
          "status": "completed"
        },
        "tags": [],
        "colab": {
          "base_uri": "https://localhost:8080/"
        },
        "id": "aWmbjTSwj13l",
        "outputId": "d517192f-dff7-445c-a0a0-02b63260d6f7"
      },
      "source": [
        "print(f\"The dataset contains { df.category.nunique() } unique categories\")"
      ],
      "execution_count": null,
      "outputs": [
        {
          "output_type": "stream",
          "text": [
            "The dataset contains 40 unique categories\n"
          ],
          "name": "stdout"
        }
      ]
    },
    {
      "cell_type": "code",
      "metadata": {
        "execution": {
          "iopub.execute_input": "2020-11-28T08:42:19.722028Z",
          "iopub.status.busy": "2020-11-28T08:42:19.716775Z",
          "iopub.status.idle": "2020-11-28T08:42:19.795511Z",
          "shell.execute_reply": "2020-11-28T08:42:19.794667Z"
        },
        "papermill": {
          "duration": 0.148958,
          "end_time": "2020-11-28T08:42:19.795641",
          "exception": false,
          "start_time": "2020-11-28T08:42:19.646683",
          "status": "completed"
        },
        "tags": [],
        "id": "xq_E4UHFj13m"
      },
      "source": [
        "#label encoding the categories. After this each category would be mapped to an integer.\n",
        "encoder = LabelEncoder()\n",
        "df['categoryEncoded'] = encoder.fit_transform(df['category'])"
      ],
      "execution_count": null,
      "outputs": []
    },
    {
      "cell_type": "code",
      "metadata": {
        "execution": {
          "iopub.execute_input": "2020-11-28T08:42:19.866004Z",
          "iopub.status.busy": "2020-11-28T08:42:19.864623Z",
          "iopub.status.idle": "2020-11-28T08:42:20.229327Z",
          "shell.execute_reply": "2020-11-28T08:42:20.229893Z"
        },
        "papermill": {
          "duration": 0.403308,
          "end_time": "2020-11-28T08:42:20.230074",
          "exception": false,
          "start_time": "2020-11-28T08:42:19.826766",
          "status": "completed"
        },
        "tags": [],
        "id": "fx8cPrMbj13n"
      },
      "source": [
        "#since I am using bert-large-uncased as the model, I am converting each of the news headlines and descriptions into lower case.\n",
        "df['headline'] = df['headline'].apply(lambda headline: str(headline).lower())\n",
        "df['short_description'] = df['short_description'].apply(lambda descr: str(descr).lower())"
      ],
      "execution_count": null,
      "outputs": []
    },
    {
      "cell_type": "code",
      "metadata": {
        "execution": {
          "iopub.execute_input": "2020-11-28T08:42:20.303946Z",
          "iopub.status.busy": "2020-11-28T08:42:20.300364Z",
          "iopub.status.idle": "2020-11-28T08:42:21.194980Z",
          "shell.execute_reply": "2020-11-28T08:42:21.194172Z"
        },
        "papermill": {
          "duration": 0.933615,
          "end_time": "2020-11-28T08:42:21.195137",
          "exception": false,
          "start_time": "2020-11-28T08:42:20.261522",
          "status": "completed"
        },
        "tags": [],
        "id": "V-dvloUVj13n"
      },
      "source": [
        "#calculating the length of headlines and descriptions\n",
        "df['descr_len'] = df['short_description'].apply(lambda x: len(str(x).split()))\n",
        "df['headline_len'] = df['headline'].apply(lambda x: len(str(x).split()))"
      ],
      "execution_count": null,
      "outputs": []
    },
    {
      "cell_type": "code",
      "metadata": {
        "execution": {
          "iopub.execute_input": "2020-11-28T08:42:21.266544Z",
          "iopub.status.busy": "2020-11-28T08:42:21.265704Z",
          "iopub.status.idle": "2020-11-28T08:42:21.314964Z",
          "shell.execute_reply": "2020-11-28T08:42:21.315599Z"
        },
        "papermill": {
          "duration": 0.088823,
          "end_time": "2020-11-28T08:42:21.315782",
          "exception": false,
          "start_time": "2020-11-28T08:42:21.226959",
          "status": "completed"
        },
        "tags": [],
        "colab": {
          "base_uri": "https://localhost:8080/",
          "height": 297
        },
        "id": "r4PhuElQj13o",
        "outputId": "a387d68d-294b-4339-a321-69fb261f8275"
      },
      "source": [
        "df.describe()"
      ],
      "execution_count": null,
      "outputs": [
        {
          "output_type": "execute_result",
          "data": {
            "text/html": [
              "<div>\n",
              "<style scoped>\n",
              "    .dataframe tbody tr th:only-of-type {\n",
              "        vertical-align: middle;\n",
              "    }\n",
              "\n",
              "    .dataframe tbody tr th {\n",
              "        vertical-align: top;\n",
              "    }\n",
              "\n",
              "    .dataframe thead th {\n",
              "        text-align: right;\n",
              "    }\n",
              "</style>\n",
              "<table border=\"1\" class=\"dataframe\">\n",
              "  <thead>\n",
              "    <tr style=\"text-align: right;\">\n",
              "      <th></th>\n",
              "      <th>categoryEncoded</th>\n",
              "      <th>descr_len</th>\n",
              "      <th>headline_len</th>\n",
              "    </tr>\n",
              "  </thead>\n",
              "  <tbody>\n",
              "    <tr>\n",
              "      <th>count</th>\n",
              "      <td>200853.000000</td>\n",
              "      <td>200853.000000</td>\n",
              "      <td>200853.000000</td>\n",
              "    </tr>\n",
              "    <tr>\n",
              "      <th>mean</th>\n",
              "      <td>22.024366</td>\n",
              "      <td>19.728289</td>\n",
              "      <td>9.538563</td>\n",
              "    </tr>\n",
              "    <tr>\n",
              "      <th>std</th>\n",
              "      <td>10.753991</td>\n",
              "      <td>14.409189</td>\n",
              "      <td>3.089320</td>\n",
              "    </tr>\n",
              "    <tr>\n",
              "      <th>min</th>\n",
              "      <td>0.000000</td>\n",
              "      <td>0.000000</td>\n",
              "      <td>0.000000</td>\n",
              "    </tr>\n",
              "    <tr>\n",
              "      <th>25%</th>\n",
              "      <td>13.000000</td>\n",
              "      <td>10.000000</td>\n",
              "      <td>7.000000</td>\n",
              "    </tr>\n",
              "    <tr>\n",
              "      <th>50%</th>\n",
              "      <td>24.000000</td>\n",
              "      <td>19.000000</td>\n",
              "      <td>10.000000</td>\n",
              "    </tr>\n",
              "    <tr>\n",
              "      <th>75%</th>\n",
              "      <td>30.000000</td>\n",
              "      <td>24.000000</td>\n",
              "      <td>12.000000</td>\n",
              "    </tr>\n",
              "    <tr>\n",
              "      <th>max</th>\n",
              "      <td>39.000000</td>\n",
              "      <td>243.000000</td>\n",
              "      <td>44.000000</td>\n",
              "    </tr>\n",
              "  </tbody>\n",
              "</table>\n",
              "</div>"
            ],
            "text/plain": [
              "       categoryEncoded      descr_len   headline_len\n",
              "count    200853.000000  200853.000000  200853.000000\n",
              "mean         22.024366      19.728289       9.538563\n",
              "std          10.753991      14.409189       3.089320\n",
              "min           0.000000       0.000000       0.000000\n",
              "25%          13.000000      10.000000       7.000000\n",
              "50%          24.000000      19.000000      10.000000\n",
              "75%          30.000000      24.000000      12.000000\n",
              "max          39.000000     243.000000      44.000000"
            ]
          },
          "metadata": {
            "tags": []
          },
          "execution_count": 26
        }
      ]
    },
    {
      "cell_type": "code",
      "metadata": {
        "_kg_hide-input": true,
        "execution": {
          "iopub.execute_input": "2020-11-28T08:42:21.392041Z",
          "iopub.status.busy": "2020-11-28T08:42:21.391191Z",
          "iopub.status.idle": "2020-11-28T08:42:21.798370Z",
          "shell.execute_reply": "2020-11-28T08:42:21.797590Z"
        },
        "papermill": {
          "duration": 0.445666,
          "end_time": "2020-11-28T08:42:21.798513",
          "exception": false,
          "start_time": "2020-11-28T08:42:21.352847",
          "status": "completed"
        },
        "tags": [],
        "colab": {
          "base_uri": "https://localhost:8080/",
          "height": 350
        },
        "id": "dWrtzP6oj13o",
        "outputId": "ee5560eb-c338-4b70-ed52-dda704c667de"
      },
      "source": [
        "sns.distplot(df['descr_len'])\n",
        "plt.title('Description Number of Words')\n",
        "plt.show()"
      ],
      "execution_count": null,
      "outputs": [
        {
          "output_type": "stream",
          "text": [
            "/usr/local/lib/python3.7/dist-packages/seaborn/distributions.py:2557: FutureWarning: `distplot` is a deprecated function and will be removed in a future version. Please adapt your code to use either `displot` (a figure-level function with similar flexibility) or `histplot` (an axes-level function for histograms).\n",
            "  warnings.warn(msg, FutureWarning)\n"
          ],
          "name": "stderr"
        },
        {
          "output_type": "display_data",
          "data": {
            "image/png": "[encoded data removed]",
            "text/plain": [
              "<Figure size 432x288 with 1 Axes>"
            ]
          },
          "metadata": {
            "tags": [],
            "needs_background": "light"
          }
        }
      ]
    },
    {
      "cell_type": "code",
      "metadata": {
        "_kg_hide-input": true,
        "execution": {
          "iopub.execute_input": "2020-11-28T08:42:21.891657Z",
          "iopub.status.busy": "2020-11-28T08:42:21.890773Z",
          "iopub.status.idle": "2020-11-28T08:42:22.233570Z",
          "shell.execute_reply": "2020-11-28T08:42:22.232775Z"
        },
        "papermill": {
          "duration": 0.401912,
          "end_time": "2020-11-28T08:42:22.233729",
          "exception": false,
          "start_time": "2020-11-28T08:42:21.831817",
          "status": "completed"
        },
        "tags": [],
        "colab": {
          "base_uri": "https://localhost:8080/",
          "height": 350
        },
        "id": "W3SVt2iwj13p",
        "outputId": "81667c43-6700-410a-9ae2-27831deeadfb"
      },
      "source": [
        "sns.distplot(df['headline_len'])\n",
        "plt.title('Headline Number of Words')\n",
        "plt.show()"
      ],
      "execution_count": null,
      "outputs": [
        {
          "output_type": "stream",
          "text": [
            "/usr/local/lib/python3.7/dist-packages/seaborn/distributions.py:2557: FutureWarning: `distplot` is a deprecated function and will be removed in a future version. Please adapt your code to use either `displot` (a figure-level function with similar flexibility) or `histplot` (an axes-level function for histograms).\n",
            "  warnings.warn(msg, FutureWarning)\n"
          ],
          "name": "stderr"
        },
        {
          "output_type": "display_data",
          "data": {
            "image/png": "[encoded data removed]",
            "text/plain": [
              "<Figure size 432x288 with 1 Axes>"
            ]
          },
          "metadata": {
            "tags": [],
            "needs_background": "light"
          }
        }
      ]
    },
    {
      "cell_type": "markdown",
      "metadata": {
        "papermill": {
          "duration": 0.03597,
          "end_time": "2020-11-28T08:42:22.306720",
          "exception": false,
          "start_time": "2020-11-28T08:42:22.270750",
          "status": "completed"
        },
        "tags": [],
        "id": "OoEHsu-_j13q"
      },
      "source": [
        "As we can see, that there are a lot of samples that have a description length of 0, however almost all articles have a headline. Going with the intuition that the headline is often more descriptive of the category of the news, as well as to provide more text data to the model, I add news headlines to the short description and modify the description of the news samples."
      ]
    },
    {
      "cell_type": "code",
      "metadata": {
        "execution": {
          "iopub.execute_input": "2020-11-28T08:42:22.384759Z",
          "iopub.status.busy": "2020-11-28T08:42:22.383904Z",
          "iopub.status.idle": "2020-11-28T08:42:22.493247Z",
          "shell.execute_reply": "2020-11-28T08:42:22.492408Z"
        },
        "papermill": {
          "duration": 0.15069,
          "end_time": "2020-11-28T08:42:22.493381",
          "exception": false,
          "start_time": "2020-11-28T08:42:22.342691",
          "status": "completed"
        },
        "tags": [],
        "id": "QaVyX5qSj13r"
      },
      "source": [
        "df['short_description'] = df['headline'] + df['short_description']"
      ],
      "execution_count": null,
      "outputs": []
    },
    {
      "cell_type": "code",
      "metadata": {
        "_kg_hide-input": true,
        "execution": {
          "iopub.execute_input": "2020-11-28T08:42:22.573092Z",
          "iopub.status.busy": "2020-11-28T08:42:22.571769Z",
          "iopub.status.idle": "2020-11-28T08:42:22.936778Z",
          "shell.execute_reply": "2020-11-28T08:42:22.937370Z"
        },
        "papermill": {
          "duration": 0.408732,
          "end_time": "2020-11-28T08:42:22.937548",
          "exception": false,
          "start_time": "2020-11-28T08:42:22.528816",
          "status": "completed"
        },
        "tags": [],
        "colab": {
          "base_uri": "https://localhost:8080/",
          "height": 335
        },
        "id": "0mJuc5E_j13r",
        "outputId": "7e22e9ec-7b8c-4b08-abc5-87223967631b"
      },
      "source": [
        "sns.distplot(df['headline_len'] + df['descr_len'])\n",
        "plt.title('Short Description Number of Words')\n",
        "plt.show()"
      ],
      "execution_count": null,
      "outputs": [
        {
          "output_type": "stream",
          "text": [
            "/usr/local/lib/python3.7/dist-packages/seaborn/distributions.py:2557: FutureWarning: `distplot` is a deprecated function and will be removed in a future version. Please adapt your code to use either `displot` (a figure-level function with similar flexibility) or `histplot` (an axes-level function for histograms).\n",
            "  warnings.warn(msg, FutureWarning)\n"
          ],
          "name": "stderr"
        },
        {
          "output_type": "display_data",
          "data": {
            "image/png": "[encoded data removed]",
            "text/plain": [
              "<Figure size 432x288 with 1 Axes>"
            ]
          },
          "metadata": {
            "tags": [],
            "needs_background": "light"
          }
        }
      ]
    },
    {
      "cell_type": "markdown",
      "metadata": {
        "papermill": {
          "duration": 0.035626,
          "end_time": "2020-11-28T08:42:23.010079",
          "exception": false,
          "start_time": "2020-11-28T08:42:22.974453",
          "status": "completed"
        },
        "tags": [],
        "id": "WBCrjYZvj13s"
      },
      "source": [
        "## Tokenizing\n",
        "\n",
        "* I use the HuggingFace tokenizer for bert to tokenize the given news descriptions. After splitting up the dataset into train and test, we encode both the training data and the testing data. \n",
        "* One more thing to notice is that we truncate the last part of the sentence when encoding it, thus adding the headlines to the front of the description means that our model will always have the headline of the news sample."
      ]
    },
    {
      "cell_type": "code",
      "metadata": {
        "_cell_guid": "79c7e3d0-c299-4dcb-8224-4455121ee9b0",
        "_uuid": "d629ff2d2480ee46fbb7e2d37f6b5fab8052498a",
        "execution": {
          "iopub.execute_input": "2020-11-28T08:42:23.093664Z",
          "iopub.status.busy": "2020-11-28T08:42:23.092857Z",
          "iopub.status.idle": "2020-11-28T08:42:23.096054Z",
          "shell.execute_reply": "2020-11-28T08:42:23.095299Z"
        },
        "papermill": {
          "duration": 0.046695,
          "end_time": "2020-11-28T08:42:23.096199",
          "exception": false,
          "start_time": "2020-11-28T08:42:23.049504",
          "status": "completed"
        },
        "tags": [],
        "id": "GSQIbQjnj13s"
      },
      "source": [
        "# def regular_encode(texts, tokenizer, maxlen=512):\n",
        "#     enc_di = tokenizer.batch_encode_plus(\n",
        "#         texts, \n",
        "#         return_token_type_ids=False,\n",
        "#         padding='max_length',\n",
        "#         max_length=maxlen\n",
        "#     )\n",
        "    \n",
        "#     return np.array(enc_di['input_ids'])"
      ],
      "execution_count": null,
      "outputs": []
    },
    {
      "cell_type": "code",
      "metadata": {
        "execution": {
          "iopub.execute_input": "2020-11-28T08:42:23.177790Z",
          "iopub.status.busy": "2020-11-28T08:42:23.176958Z",
          "iopub.status.idle": "2020-11-28T08:42:24.569221Z",
          "shell.execute_reply": "2020-11-28T08:42:24.568446Z"
        },
        "papermill": {
          "duration": 1.435608,
          "end_time": "2020-11-28T08:42:24.569353",
          "exception": false,
          "start_time": "2020-11-28T08:42:23.133745",
          "status": "completed"
        },
        "tags": [],
        "id": "Hq2fDN3aj13t",
        "colab": {
          "base_uri": "https://localhost:8080/",
          "height": 115,
          "referenced_widgets": [
            "c920fe61e3184ecab3105ddbf3c006ae",
            "b84b72ec55724b93b1ed401745c55f68",
            "7280f7235e2d453e9177d9265ab6ab05",
            "cb3c72e2e9a54bd4a765f768d5ff4be3",
            "48f8d37654924121a52857639bdf8d9c",
            "6a9bb147b9604d33b9c8e11103ee2e84",
            "1c9bbc696252443b827b78147cdab109",
            "36371d8881d0431990b27c02db672c2d",
            "33b08d0db33744c19dc4afd0f5d352f7",
            "147f4504ee364a8aa96fa6a9ab40cdb0",
            "5d3c4100ac034affb806851c05d8195b",
            "f7e5a7af0de94d1db4d5dc61a8454d5e",
            "6e9eb06180a34932b631a5732d833055",
            "4c259ff9175b47fe9a71898ef6a65b7b",
            "5b8f2c61277b4e44bfd013cdf07d5928",
            "640d1ada821e4515b7fb8cc2e8d62ab0"
          ]
        },
        "outputId": "e9f6e66a-6100-42af-a6d3-1893930b3f55"
      },
      "source": [
        "#bert large uncased pretrained tokenizer\n",
        "# tokenizer = transformers.BertTokenizer.from_pretrained('bert-large-uncased')\n",
        "from transformers import DistilBertTokenizerFast\n",
        "tokenizer = DistilBertTokenizerFast.from_pretrained('distilbert-base-uncased')"
      ],
      "execution_count": null,
      "outputs": [
        {
          "output_type": "display_data",
          "data": {
            "application/vnd.jupyter.widget-view+json": {
              "model_id": "c920fe61e3184ecab3105ddbf3c006ae",
              "version_minor": 0,
              "version_major": 2
            },
            "text/plain": [
              "HBox(children=(FloatProgress(value=0.0, description='Downloading', max=231508.0, style=ProgressStyle(descripti…"
            ]
          },
          "metadata": {
            "tags": []
          }
        },
        {
          "output_type": "stream",
          "text": [
            "\n"
          ],
          "name": "stdout"
        },
        {
          "output_type": "display_data",
          "data": {
            "application/vnd.jupyter.widget-view+json": {
              "model_id": "33b08d0db33744c19dc4afd0f5d352f7",
              "version_minor": 0,
              "version_major": 2
            },
            "text/plain": [
              "HBox(children=(FloatProgress(value=0.0, description='Downloading', max=466062.0, style=ProgressStyle(descripti…"
            ]
          },
          "metadata": {
            "tags": []
          }
        },
        {
          "output_type": "stream",
          "text": [
            "\n"
          ],
          "name": "stdout"
        }
      ]
    },
    {
      "cell_type": "code",
      "metadata": {
        "execution": {
          "iopub.execute_input": "2020-11-28T08:42:24.660868Z",
          "iopub.status.busy": "2020-11-28T08:42:24.654442Z",
          "iopub.status.idle": "2020-11-28T08:42:24.699385Z",
          "shell.execute_reply": "2020-11-28T08:42:24.698523Z"
        },
        "papermill": {
          "duration": 0.090854,
          "end_time": "2020-11-28T08:42:24.699525",
          "exception": false,
          "start_time": "2020-11-28T08:42:24.608671",
          "status": "completed"
        },
        "tags": [],
        "id": "Nlr-ppUVj13u"
      },
      "source": [
        "X_train,X_test ,y_train,y_test = train_test_split(df['short_description'].to_list(),\n",
        "                                                  df['categoryEncoded'].to_list(), random_state = 2020, \n",
        "                                                  test_size = 0.3,\n",
        "                                                  stratify=df['categoryEncoded'].to_list())"
      ],
      "execution_count": null,
      "outputs": []
    },
    {
      "cell_type": "code",
      "metadata": {
        "id": "r-M_bhYfErZ4"
      },
      "source": [
        "train_encodings = tokenizer(X_train, truncation=True, padding='max_length',max_length=512, return_tensors='tf')\n",
        "test_encodings = tokenizer(X_test, truncation=True, padding='max_length',max_length=512, return_tensors='tf',)\n",
        "ytrain_encoded = tf.keras.utils.to_categorical(y_train, num_classes=40,dtype = 'float32')\n",
        "ytest_encoded = tf.keras.utils.to_categorical(y_test, num_classes=40,dtype = 'float32')"
      ],
      "execution_count": null,
      "outputs": []
    },
    {
      "cell_type": "code",
      "metadata": {
        "colab": {
          "base_uri": "https://localhost:8080/"
        },
        "id": "teIJwhiYTCQG",
        "outputId": "9cae6f19-1e2e-4338-f8fe-6fc367506358"
      },
      "source": [
        "train_encodings"
      ],
      "execution_count": null,
      "outputs": [
        {
          "output_type": "execute_result",
          "data": {
            "text/plain": [
              "{'input_ids': <tf.Tensor: shape=(140597, 512), dtype=int32, numpy=\n",
              "array([[  101,  3782,  6508, ...,     0,     0,     0],\n",
              "       [  101,  2054,  2024, ...,     0,     0,     0],\n",
              "       [  101, 24794,  3501, ...,     0,     0,     0],\n",
              "       ...,\n",
              "       [  101, 23677,  7163, ...,     0,     0,     0],\n",
              "       [  101,  2833,  1997, ...,     0,     0,     0],\n",
              "       [  101,  3806, 13181, ...,     0,     0,     0]], dtype=int32)>, 'attention_mask': <tf.Tensor: shape=(140597, 512), dtype=int32, numpy=\n",
              "array([[1, 1, 1, ..., 0, 0, 0],\n",
              "       [1, 1, 1, ..., 0, 0, 0],\n",
              "       [1, 1, 1, ..., 0, 0, 0],\n",
              "       ...,\n",
              "       [1, 1, 1, ..., 0, 0, 0],\n",
              "       [1, 1, 1, ..., 0, 0, 0],\n",
              "       [1, 1, 1, ..., 0, 0, 0]], dtype=int32)>}"
            ]
          },
          "metadata": {
            "tags": []
          },
          "execution_count": 19
        }
      ]
    },
    {
      "cell_type": "code",
      "metadata": {
        "colab": {
          "base_uri": "https://localhost:8080/"
        },
        "id": "zlx1gfYOT6SW",
        "outputId": "d74076b4-90a8-411b-e720-bf1b92821adf"
      },
      "source": [
        "test_encodings"
      ],
      "execution_count": null,
      "outputs": [
        {
          "output_type": "execute_result",
          "data": {
            "text/plain": [
              "{'input_ids': <tf.Tensor: shape=(60256, 512), dtype=int32, numpy=\n",
              "array([[  101,  8398,  1005, ...,     0,     0,     0],\n",
              "       [  101, 14229,  3524, ...,     0,     0,     0],\n",
              "       [  101,  2023,  3637, ...,     0,     0,     0],\n",
              "       ...,\n",
              "       [  101,  1996,  2373, ...,     0,     0,     0],\n",
              "       [  101,  2137,  2540, ...,     0,     0,     0],\n",
              "       [  101, 15384,  2239, ...,     0,     0,     0]], dtype=int32)>, 'attention_mask': <tf.Tensor: shape=(60256, 512), dtype=int32, numpy=\n",
              "array([[1, 1, 1, ..., 0, 0, 0],\n",
              "       [1, 1, 1, ..., 0, 0, 0],\n",
              "       [1, 1, 1, ..., 0, 0, 0],\n",
              "       ...,\n",
              "       [1, 1, 1, ..., 0, 0, 0],\n",
              "       [1, 1, 1, ..., 0, 0, 0],\n",
              "       [1, 1, 1, ..., 0, 0, 0]], dtype=int32)>}"
            ]
          },
          "metadata": {
            "tags": []
          },
          "execution_count": 20
        }
      ]
    },
    {
      "cell_type": "code",
      "metadata": {
        "id": "aupoif-uuGuD"
      },
      "source": [
        ""
      ],
      "execution_count": null,
      "outputs": []
    },
    {
      "cell_type": "code",
      "metadata": {
        "id": "MHpYYZ0JuG2T"
      },
      "source": [
        ""
      ],
      "execution_count": null,
      "outputs": []
    },
    {
      "cell_type": "code",
      "metadata": {
        "id": "IuzPCOXtQrK0"
      },
      "source": [
        "train_encodings=train_encodings['input_ids']\n",
        "test_encodings=test_encodings['input_ids']"
      ],
      "execution_count": null,
      "outputs": []
    },
    {
      "cell_type": "code",
      "metadata": {
        "execution": {
          "iopub.execute_input": "2020-11-28T08:42:24.832082Z",
          "iopub.status.busy": "2020-11-28T08:42:24.783798Z",
          "iopub.status.idle": "2020-11-28T08:47:14.053040Z",
          "shell.execute_reply": "2020-11-28T08:47:14.052234Z"
        },
        "papermill": {
          "duration": 289.31561,
          "end_time": "2020-11-28T08:47:14.053211",
          "exception": false,
          "start_time": "2020-11-28T08:42:24.737601",
          "status": "completed"
        },
        "tags": [],
        "id": "cTJJHVxdj13u"
      },
      "source": [
        "# #tokenizing the news descriptions and converting the categories into one hot vectors using tf.keras.utils.to_categorical\n",
        "# Xtrain_encoded = regular_encode(X_train, tokenizer, maxlen=80)\n",
        "# ytrain_encoded = tf.keras.utils.to_categorical(y_train, num_classes=40,dtype = 'float32')\n",
        "# Xtest_encoded = regular_encode(X_test, tokenizer, maxlen=80)\n",
        "# ytest_encoded = tf.keras.utils.to_categorical(y_test, num_classes=40,dtype = 'float32')"
      ],
      "execution_count": null,
      "outputs": []
    },
    {
      "cell_type": "markdown",
      "metadata": {
        "papermill": {
          "duration": 0.037461,
          "end_time": "2020-11-28T08:47:14.129310",
          "exception": false,
          "start_time": "2020-11-28T08:47:14.091849",
          "status": "completed"
        },
        "tags": [],
        "id": "kC6x54Vkj13v"
      },
      "source": [
        "## Building the model"
      ]
    },
    {
      "cell_type": "code",
      "metadata": {
        "execution": {
          "iopub.execute_input": "2020-11-28T08:47:14.216814Z",
          "iopub.status.busy": "2020-11-28T08:47:14.215889Z",
          "iopub.status.idle": "2020-11-28T08:47:14.219006Z",
          "shell.execute_reply": "2020-11-28T08:47:14.218398Z"
        },
        "papermill": {
          "duration": 0.051347,
          "end_time": "2020-11-28T08:47:14.219148",
          "exception": false,
          "start_time": "2020-11-28T08:47:14.167801",
          "status": "completed"
        },
        "tags": [],
        "id": "zK5PAqKCj13v"
      },
      "source": [
        "def build_model(transformer, loss='categorical_crossentropy', max_len=512):\n",
        "    input_word_ids = tf.keras.layers.Input(shape=(max_len,), dtype=tf.int32, name=\"input_word_ids\")\n",
        "    sequence_output = transformer(input_word_ids)[0]\n",
        "    cls_token = sequence_output[:, 0, :]\n",
        "    #adding dropout layer\n",
        "    x = tf.keras.layers.Dropout(0.3)(cls_token)\n",
        "    #using a dense layer of 40 neurons as the number of unique categories is 40. \n",
        "    out = tf.keras.layers.Dense(40, activation='softmax')(x)\n",
        "    model = tf.keras.Model(inputs=input_word_ids, outputs=out)\n",
        "    #using categorical crossentropy as the loss as it is a multi-class classification problem\n",
        "    model.compile(tf.keras.optimizers.Adam(lr=3e-5), loss=loss, metrics=['accuracy'])\n",
        "    return model"
      ],
      "execution_count": null,
      "outputs": []
    },
    {
      "cell_type": "code",
      "metadata": {
        "execution": {
          "iopub.execute_input": "2020-11-28T08:47:14.302700Z",
          "iopub.status.busy": "2020-11-28T08:47:14.301639Z",
          "iopub.status.idle": "2020-11-28T08:48:42.416739Z",
          "shell.execute_reply": "2020-11-28T08:48:42.417633Z"
        },
        "papermill": {
          "duration": 88.160239,
          "end_time": "2020-11-28T08:48:42.417891",
          "exception": false,
          "start_time": "2020-11-28T08:47:14.257652",
          "status": "completed"
        },
        "tags": [],
        "id": "YhJWgJEwj13w",
        "colab": {
          "base_uri": "https://localhost:8080/"
        },
        "outputId": "bc9553ee-7540-43e3-d80f-66199e7d7f8d"
      },
      "source": [
        "#building the model on tpu\n",
        "with strategy.scope():\n",
        "    transformer_layer = transformers.TFAutoModel.from_pretrained('distilbert-base-uncased')\n",
        "    model = build_model(transformer_layer, max_len=512)\n",
        "model.summary()"
      ],
      "execution_count": null,
      "outputs": [
        {
          "output_type": "stream",
          "text": [
            "Some layers from the model checkpoint at distilbert-base-uncased were not used when initializing TFDistilBertModel: ['activation_13', 'vocab_layer_norm', 'vocab_transform', 'vocab_projector']\n",
            "- This IS expected if you are initializing TFDistilBertModel from the checkpoint of a model trained on another task or with another architecture (e.g. initializing a BertForSequenceClassification model from a BertForPreTraining model).\n",
            "- This IS NOT expected if you are initializing TFDistilBertModel from the checkpoint of a model that you expect to be exactly identical (initializing a BertForSequenceClassification model from a BertForSequenceClassification model).\n",
            "All the layers of TFDistilBertModel were initialized from the model checkpoint at distilbert-base-uncased.\n",
            "If your task is similar to the task the model of the checkpoint was trained on, you can already use TFDistilBertModel for predictions without further training.\n"
          ],
          "name": "stderr"
        },
        {
          "output_type": "stream",
          "text": [
            "WARNING:tensorflow:The parameters `output_attentions`, `output_hidden_states` and `use_cache` cannot be updated when calling a model.They have to be set to True/False in the config object (i.e.: `config=XConfig.from_pretrained('name', output_attentions=True)`).\n",
            "WARNING:tensorflow:The parameter `return_dict` cannot be set in graph mode and will always be set to `True`.\n",
            "Model: \"model_1\"\n",
            "_________________________________________________________________\n",
            "Layer (type)                 Output Shape              Param #   \n",
            "=================================================================\n",
            "input_word_ids (InputLayer)  [(None, 512)]             0         \n",
            "_________________________________________________________________\n",
            "tf_distil_bert_model_1 (TFDi TFBaseModelOutput(last_hi 66362880  \n",
            "_________________________________________________________________\n",
            "tf.__operators__.getitem_1 ( (None, 768)               0         \n",
            "_________________________________________________________________\n",
            "dropout_39 (Dropout)         (None, 768)               0         \n",
            "_________________________________________________________________\n",
            "dense_1 (Dense)              (None, 40)                30760     \n",
            "=================================================================\n",
            "Total params: 66,393,640\n",
            "Trainable params: 66,393,640\n",
            "Non-trainable params: 0\n",
            "_________________________________________________________________\n"
          ],
          "name": "stdout"
        }
      ]
    },
    {
      "cell_type": "markdown",
      "metadata": {
        "papermill": {
          "duration": 0.039836,
          "end_time": "2020-11-28T08:48:42.498564",
          "exception": false,
          "start_time": "2020-11-28T08:48:42.458728",
          "status": "completed"
        },
        "tags": [],
        "id": "7XeE4RU7j13w"
      },
      "source": [
        "## Training"
      ]
    },
    {
      "cell_type": "code",
      "metadata": {
        "execution": {
          "iopub.execute_input": "2020-11-28T08:48:42.673720Z",
          "iopub.status.busy": "2020-11-28T08:48:42.672542Z",
          "iopub.status.idle": "2020-11-28T08:48:43.017942Z",
          "shell.execute_reply": "2020-11-28T08:48:43.018535Z"
        },
        "papermill": {
          "duration": 0.480015,
          "end_time": "2020-11-28T08:48:43.018711",
          "exception": false,
          "start_time": "2020-11-28T08:48:42.538696",
          "status": "completed"
        },
        "tags": [],
        "id": "GBRkJUaBj13y"
      },
      "source": [
        "# #creating the training and testing dataset.\n",
        "# BATCH_SIZE = 32*strategy.num_replicas_in_sync\n",
        "# AUTO = tf.data.experimental.AUTOTUNE \n",
        "# train_dataset = (\n",
        "#     tf.data.Dataset\n",
        "#     .from_tensor_slices((Xtrain_encoded, ytrain_encoded))\n",
        "#     .repeat()\n",
        "#     .shuffle(2048)\n",
        "#     .batch(BATCH_SIZE)\n",
        "#     .prefetch(AUTO)\n",
        "# )\n",
        "# test_dataset = (\n",
        "#     tf.data.Dataset\n",
        "#     .from_tensor_slices(Xtest_encoded)\n",
        "#     .batch(BATCH_SIZE)\n",
        "# )\n",
        "\n",
        "BATCH_SIZE = 16*strategy.num_replicas_in_sync\n",
        "AUTO = tf.data.experimental.AUTOTUNE\n",
        "Xtrain_dataset = tf.data.Dataset.from_tensor_slices((\n",
        "  train_encodings,ytrain_encoded)).repeat().shuffle(2048).batch(BATCH_SIZE).prefetch(AUTO)\n",
        " \n",
        "Xtest_dataset = tf.data.Dataset.from_tensor_slices((\n",
        "    test_encodings, ytest_encoded)).batch(BATCH_SIZE).prefetch(AUTO)"
      ],
      "execution_count": null,
      "outputs": []
    },
    {
      "cell_type": "code",
      "metadata": {
        "id": "Zsf1D3g3MqWk",
        "colab": {
          "base_uri": "https://localhost:8080/"
        },
        "outputId": "bbfedf3c-cc75-4a57-f0e9-6e8204f04baf"
      },
      "source": [
        "#training for 10 epochs\n",
        "n_steps = len(X_train)// BATCH_SIZE\n",
        "n_steps"
      ],
      "execution_count": null,
      "outputs": [
        {
          "output_type": "execute_result",
          "data": {
            "text/plain": [
              "8787"
            ]
          },
          "metadata": {
            "tags": []
          },
          "execution_count": 44
        }
      ]
    },
    {
      "cell_type": "code",
      "metadata": {
        "execution": {
          "iopub.execute_input": "2020-11-28T08:48:43.121399Z",
          "iopub.status.busy": "2020-11-28T08:48:43.120475Z",
          "iopub.status.idle": "2020-11-28T09:22:19.751013Z",
          "shell.execute_reply": "2020-11-28T09:22:19.750005Z"
        },
        "papermill": {
          "duration": 2016.69139,
          "end_time": "2020-11-28T09:22:19.751219",
          "exception": false,
          "start_time": "2020-11-28T08:48:43.059829",
          "status": "completed"
        },
        "tags": [],
        "id": "q1_n1wpEj13y",
        "colab": {
          "base_uri": "https://localhost:8080/"
        },
        "outputId": "002e2eb8-9044-4400-b82f-6081de6fb016"
      },
      "source": [
        "#training for 10 epochs\n",
        "n_steps = len(X_train)// BATCH_SIZE\n",
        "train_history = model.fit(\n",
        "    Xtrain_dataset,\n",
        "    steps_per_epoch=n_steps,validation_data=Xtest_dataset,\n",
        "    epochs=10\n",
        ")"
      ],
      "execution_count": null,
      "outputs": [
        {
          "output_type": "stream",
          "text": [
            "Epoch 1/10\n",
            " 749/8787 [=>............................] - ETA: 2:09:26 - loss: 2.0477 - accuracy: 0.4704"
          ],
          "name": "stdout"
        }
      ]
    },
    {
      "cell_type": "markdown",
      "metadata": {
        "papermill": {
          "duration": 2.238018,
          "end_time": "2020-11-28T09:22:24.243488",
          "exception": false,
          "start_time": "2020-11-28T09:22:22.005470",
          "status": "completed"
        },
        "tags": [],
        "id": "yw1Ez14nj13z"
      },
      "source": [
        "## Evaluation"
      ]
    },
    {
      "cell_type": "code",
      "metadata": {
        "execution": {
          "iopub.execute_input": "2020-11-28T09:22:28.848203Z",
          "iopub.status.busy": "2020-11-28T09:22:28.847298Z",
          "iopub.status.idle": "2020-11-28T09:23:56.883991Z",
          "shell.execute_reply": "2020-11-28T09:23:56.883039Z"
        },
        "papermill": {
          "duration": 90.338287,
          "end_time": "2020-11-28T09:23:56.884188",
          "exception": false,
          "start_time": "2020-11-28T09:22:26.545901",
          "status": "completed"
        },
        "tags": [],
        "id": "xzCZwKJAj13z"
      },
      "source": [
        "#making predictions\n",
        "preds = model.predict(Xtest_dataset,verbose = 1)\n",
        "#converting the one hot vector output to a linear numpy array.\n",
        "pred_classes = np.argmax(preds, axis = 1)"
      ],
      "execution_count": null,
      "outputs": []
    },
    {
      "cell_type": "code",
      "metadata": {
        "execution": {
          "iopub.execute_input": "2020-11-28T09:24:01.703231Z",
          "iopub.status.busy": "2020-11-28T09:24:01.687634Z",
          "iopub.status.idle": "2020-11-28T09:24:01.735383Z",
          "shell.execute_reply": "2020-11-28T09:24:01.736014Z"
        },
        "papermill": {
          "duration": 2.483315,
          "end_time": "2020-11-28T09:24:01.736197",
          "exception": false,
          "start_time": "2020-11-28T09:23:59.252882",
          "status": "completed"
        },
        "tags": [],
        "id": "oJE-zOTYj130"
      },
      "source": [
        "#extracting the classes from the label encoder\n",
        "encoded_classes = encoder.classes_\n",
        "#mapping the encoded output to actual categories\n",
        "predicted_category = [encoded_classes[x] for x in pred_classes]\n",
        "true_category = [encoded_classes[x] for x in y_test]"
      ],
      "execution_count": null,
      "outputs": []
    },
    {
      "cell_type": "code",
      "metadata": {
        "execution": {
          "iopub.execute_input": "2020-11-28T09:24:06.460122Z",
          "iopub.status.busy": "2020-11-28T09:24:06.454836Z",
          "iopub.status.idle": "2020-11-28T09:24:06.479633Z",
          "shell.execute_reply": "2020-11-28T09:24:06.478845Z"
        },
        "papermill": {
          "duration": 2.403403,
          "end_time": "2020-11-28T09:24:06.479763",
          "exception": false,
          "start_time": "2020-11-28T09:24:04.076360",
          "status": "completed"
        },
        "tags": [],
        "id": "iXOnKyuNj130"
      },
      "source": [
        "result_df = pd.DataFrame({'description':X_test,'true_category':true_category, 'predicted_category':predicted_category})\n",
        "result_df.head()"
      ],
      "execution_count": null,
      "outputs": []
    },
    {
      "cell_type": "code",
      "metadata": {
        "execution": {
          "iopub.execute_input": "2020-11-28T09:24:11.355882Z",
          "iopub.status.busy": "2020-11-28T09:24:11.279199Z",
          "iopub.status.idle": "2020-11-28T09:24:11.360603Z",
          "shell.execute_reply": "2020-11-28T09:24:11.359799Z"
        },
        "papermill": {
          "duration": 2.558097,
          "end_time": "2020-11-28T09:24:11.360731",
          "exception": false,
          "start_time": "2020-11-28T09:24:08.802634",
          "status": "completed"
        },
        "tags": [],
        "id": "ijbsAbAJj131"
      },
      "source": [
        "print(f\"Accuracy is {sklearn.metrics.accuracy_score(result_df['true_category'], result_df['predicted_category'])}\")"
      ],
      "execution_count": null,
      "outputs": []
    },
    {
      "cell_type": "code",
      "metadata": {
        "execution": {
          "iopub.execute_input": "2020-11-28T09:24:16.098722Z",
          "iopub.status.busy": "2020-11-28T09:24:16.097937Z",
          "iopub.status.idle": "2020-11-28T09:24:16.773963Z",
          "shell.execute_reply": "2020-11-28T09:24:16.773322Z"
        },
        "papermill": {
          "duration": 3.059207,
          "end_time": "2020-11-28T09:24:16.774134",
          "exception": false,
          "start_time": "2020-11-28T09:24:13.714927",
          "status": "completed"
        },
        "tags": [],
        "id": "Mo_OLvIOj132"
      },
      "source": [
        "result_df.to_csv('testPredictions.csv', index = False)"
      ],
      "execution_count": null,
      "outputs": []
    },
    {
      "cell_type": "markdown",
      "metadata": {
        "papermill": {
          "duration": 2.331065,
          "end_time": "2020-11-28T09:24:21.436950",
          "exception": false,
          "start_time": "2020-11-28T09:24:19.105885",
          "status": "completed"
        },
        "tags": [],
        "id": "rnWDX9oHj132"
      },
      "source": [
        "## Confusion Matrix"
      ]
    },
    {
      "cell_type": "code",
      "metadata": {
        "execution": {
          "iopub.execute_input": "2020-11-28T09:24:26.185715Z",
          "iopub.status.busy": "2020-11-28T09:24:26.184642Z",
          "iopub.status.idle": "2020-11-28T09:24:26.202311Z",
          "shell.execute_reply": "2020-11-28T09:24:26.201702Z"
        },
        "papermill": {
          "duration": 2.376485,
          "end_time": "2020-11-28T09:24:26.202448",
          "exception": false,
          "start_time": "2020-11-28T09:24:23.825963",
          "status": "completed"
        },
        "tags": [],
        "id": "mCocDnYuj132"
      },
      "source": [
        "result_df[result_df['true_category']!=result_df['predicted_category']]"
      ],
      "execution_count": null,
      "outputs": []
    },
    {
      "cell_type": "code",
      "metadata": {
        "execution": {
          "iopub.execute_input": "2020-11-28T09:24:30.986126Z",
          "iopub.status.busy": "2020-11-28T09:24:30.985256Z",
          "iopub.status.idle": "2020-11-28T09:24:31.228997Z",
          "shell.execute_reply": "2020-11-28T09:24:31.228333Z"
        },
        "papermill": {
          "duration": 2.588349,
          "end_time": "2020-11-28T09:24:31.229169",
          "exception": false,
          "start_time": "2020-11-28T09:24:28.640820",
          "status": "completed"
        },
        "tags": [],
        "id": "LACPd5eZj133"
      },
      "source": [
        "confusion_mat = confusion_matrix(y_true = true_category, y_pred = predicted_category, labels=list(encoded_classes))"
      ],
      "execution_count": null,
      "outputs": []
    },
    {
      "cell_type": "code",
      "metadata": {
        "execution": {
          "iopub.execute_input": "2020-11-28T09:24:35.988880Z",
          "iopub.status.busy": "2020-11-28T09:24:35.987719Z",
          "iopub.status.idle": "2020-11-28T09:24:37.016198Z",
          "shell.execute_reply": "2020-11-28T09:24:37.015495Z"
        },
        "papermill": {
          "duration": 3.399441,
          "end_time": "2020-11-28T09:24:37.016330",
          "exception": false,
          "start_time": "2020-11-28T09:24:33.616889",
          "status": "completed"
        },
        "tags": [],
        "id": "mLh1HycAj133"
      },
      "source": [
        "df_cm = pd.DataFrame(confusion_mat, index = list(encoded_classes),columns = list(encoded_classes))\n",
        "plt.rcParams['figure.figsize'] = (20,20)\n",
        "sns.heatmap(df_cm)"
      ],
      "execution_count": null,
      "outputs": []
    },
    {
      "cell_type": "code",
      "metadata": {
        "id": "e8lC66x3r9tJ"
      },
      "source": [
        ""
      ],
      "execution_count": null,
      "outputs": []
    },
    {
      "cell_type": "code",
      "metadata": {
        "id": "oFFF9xOar9qG"
      },
      "source": [
        ""
      ],
      "execution_count": null,
      "outputs": []
    },
    {
      "cell_type": "code",
      "metadata": {
        "id": "KZz_dcX-r9nK"
      },
      "source": [
        ""
      ],
      "execution_count": null,
      "outputs": []
    },
    {
      "cell_type": "code",
      "metadata": {
        "id": "mpXKe8sir9jw"
      },
      "source": [
        ""
      ],
      "execution_count": null,
      "outputs": []
    },
    {
      "cell_type": "code",
      "metadata": {
        "id": "gU5nl_fDr9gj"
      },
      "source": [
        ""
      ],
      "execution_count": null,
      "outputs": []
    },
    {
      "cell_type": "code",
      "metadata": {
        "id": "kCbL-iInc49E"
      },
      "source": [
        "model.save('/content/mod/',overwrite=True)\n",
        "tokenizer.save_pretrained('/content/drive/MyDrive/news_category/')"
      ],
      "execution_count": null,
      "outputs": []
    },
    {
      "cell_type": "code",
      "metadata": {
        "id": "1qoYHjyq6vK6"
      },
      "source": [
        "model.save('/content/drive/MyDrive/news_category/',overwrite=True)\n",
        "tokenizer.save_pretrained('/content/drive/MyDrive/news_category/')"
      ],
      "execution_count": null,
      "outputs": []
    },
    {
      "cell_type": "code",
      "metadata": {
        "id": "G6D-xU_dvNnR"
      },
      "source": [
        ""
      ],
      "execution_count": null,
      "outputs": []
    }
  ]
}