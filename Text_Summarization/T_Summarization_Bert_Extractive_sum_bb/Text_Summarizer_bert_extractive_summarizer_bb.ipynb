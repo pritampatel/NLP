{
  "nbformat": 4,
  "nbformat_minor": 0,
  "metadata": {
    "colab": {
      "name": "Text_Summarizer_bert_extractive_summarizer_bb.ipynb",
      "provenance": []
    },
    "kernelspec": {
      "name": "python3",
      "display_name": "Python 3"
    }
  },
  "cells": [
    {
      "cell_type": "code",
      "metadata": {
        "id": "AEgJX6tBDLfq"
      },
      "source": [
        "!pip install -q bert-extractive-summarizer\r\n",
        "!pip install -q spacy==2.1.3\r\n",
        "!pip install -q tranformers==2.2.2\r\n",
        "!pip install -q neuralcoref"
      ],
      "execution_count": null,
      "outputs": []
    },
    {
      "cell_type": "code",
      "metadata": {
        "id": "Swz5kD4wD91N"
      },
      "source": [
        "from summarizer import Summarizer\r\n",
        "from pprint import pprint"
      ],
      "execution_count": 4,
      "outputs": []
    },
    {
      "cell_type": "code",
      "metadata": {
        "id": "ymyVrevBGId7"
      },
      "source": [
        "with open('/content/moby_dick_four_chapters.txt','r') as file2:\r\n",
        "  data=file2.read().replace('\\n',' ')"
      ],
      "execution_count": 51,
      "outputs": []
    },
    {
      "cell_type": "code",
      "metadata": {
        "id": "4BEWUDcuGp-u"
      },
      "source": [
        "data=data.replace('--',' ')"
      ],
      "execution_count": 26,
      "outputs": []
    },
    {
      "cell_type": "code",
      "metadata": {
        "colab": {
          "base_uri": "https://localhost:8080/",
          "height": 35
        },
        "id": "KNLyTOfGGIZb",
        "outputId": "1e488deb-7157-46b5-d97b-cd30af9a7ee5"
      },
      "source": [
        "data[:100]"
      ],
      "execution_count": 20,
      "outputs": [
        {
          "output_type": "execute_result",
          "data": {
            "application/vnd.google.colaboratory.intrinsic+json": {
              "type": "string"
            },
            "text/plain": [
              "'Call me Ishmael.  Some years ago never mind how long precisely having little or no money in my purse'"
            ]
          },
          "metadata": {
            "tags": []
          },
          "execution_count": 20
        }
      ]
    },
    {
      "cell_type": "code",
      "metadata": {
        "id": "NLXngG64GIWo"
      },
      "source": [
        "model=Summarizer()"
      ],
      "execution_count": 27,
      "outputs": []
    },
    {
      "cell_type": "code",
      "metadata": {
        "id": "lHQV8J6EGIPS"
      },
      "source": [
        "result=model(data,num_sentences=10, max_length=100)"
      ],
      "execution_count": 59,
      "outputs": []
    },
    {
      "cell_type": "code",
      "metadata": {
        "id": "aw6tAIPyIhlm"
      },
      "source": [
        "full=''.join(result)"
      ],
      "execution_count": 60,
      "outputs": []
    },
    {
      "cell_type": "code",
      "metadata": {
        "colab": {
          "base_uri": "https://localhost:8080/"
        },
        "id": "GJiMiBSqIoJ0",
        "outputId": "619f54a0-4192-41c3-d0a6-23ba95553e04"
      },
      "source": [
        "pprint(full)"
      ],
      "execution_count": 61,
      "outputs": [
        {
          "output_type": "stream",
          "text": [
            "('It is a way I have of driving off the spleen and regulating the circulation. '\n",
            " 'Were Niagara but a cataract of sand, would you travel your thousand miles to '\n",
            " 'see it? But that same image, we ourselves see in all rivers and oceans. get '\n",
            " 'away from before the door; your patched boots are stopping the way. But \"The '\n",
            " 'Crossed Harpoons,\" and \"The Sword-Fish?\"--this, then must needs be the sign '\n",
            " 'of \"The Trap.\" I could not help it, but I began to feel suspicious of this '\n",
            " '\"dark complexioned\" harpooneer. Hurrah, boys; now we\\'ll have the latest '\n",
            " 'news from the Feegees.\" Meanwhile, he continued the business of undressing, '\n",
            " 'and at last showed his chest and arms. He really did this in not only a '\n",
            " 'civil but a really kind and charitable way. Thinks I, Queequeg, this is '\n",
            " \"using Rogers's best cutlery with a vengeance.\")\n"
          ],
          "name": "stdout"
        }
      ]
    },
    {
      "cell_type": "code",
      "metadata": {
        "id": "J0V496gWNan7"
      },
      "source": [
        "new=open('new.txt','a+')\r\n",
        "new.write(full)\r\n",
        "new.close()"
      ],
      "execution_count": 62,
      "outputs": []
    }
  ]
}