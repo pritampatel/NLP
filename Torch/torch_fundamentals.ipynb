{
  "nbformat": 4,
  "nbformat_minor": 0,
  "metadata": {
    "colab": {
      "name": "torch_fundamentals.ipynb",
      "provenance": []
    },
    "kernelspec": {
      "name": "python3",
      "display_name": "Python 3"
    }
  },
  "cells": [
    {
      "cell_type": "code",
      "metadata": {
        "id": "hfsfTyiAXlR-"
      },
      "source": [
        "import torch"
      ],
      "execution_count": null,
      "outputs": []
    },
    {
      "cell_type": "code",
      "metadata": {
        "colab": {
          "base_uri": "https://localhost:8080/"
        },
        "id": "hmfUtCVvQo-W",
        "outputId": "6aa9add8-d835-4385-f1e6-a024d46ad4df"
      },
      "source": [
        "torch.full(size=(1,4),fill_value=3)"
      ],
      "execution_count": null,
      "outputs": [
        {
          "output_type": "execute_result",
          "data": {
            "text/plain": [
              "tensor([[3, 3, 3, 3]])"
            ]
          },
          "metadata": {
            "tags": []
          },
          "execution_count": 2
        }
      ]
    },
    {
      "cell_type": "code",
      "metadata": {
        "colab": {
          "base_uri": "https://localhost:8080/"
        },
        "id": "kUR4-5PRRACh",
        "outputId": "9bfad488-8fca-4f7c-f1f5-cbeb3359b1af"
      },
      "source": [
        "torch.full((4,4),4)"
      ],
      "execution_count": null,
      "outputs": [
        {
          "output_type": "execute_result",
          "data": {
            "text/plain": [
              "tensor([[4, 4, 4, 4],\n",
              "        [4, 4, 4, 4],\n",
              "        [4, 4, 4, 4],\n",
              "        [4, 4, 4, 4]])"
            ]
          },
          "metadata": {
            "tags": []
          },
          "execution_count": 3
        }
      ]
    },
    {
      "cell_type": "code",
      "metadata": {
        "colab": {
          "base_uri": "https://localhost:8080/"
        },
        "id": "m_zhtmDaRGmI",
        "outputId": "a44149ae-fb2c-4ba5-9eaa-970af5f6ead5"
      },
      "source": [
        " torch.quantize_per_tensor(torch.tensor([-1.0, 0.0, 1.0, 2.0]), 0.1, 10, torch.quint8)"
      ],
      "execution_count": null,
      "outputs": [
        {
          "output_type": "execute_result",
          "data": {
            "text/plain": [
              "tensor([-1.,  0.,  1.,  2.], size=(4,), dtype=torch.quint8,\n",
              "       quantization_scheme=torch.per_tensor_affine, scale=0.1, zero_point=10)"
            ]
          },
          "metadata": {
            "tags": []
          },
          "execution_count": 4
        }
      ]
    },
    {
      "cell_type": "code",
      "metadata": {
        "colab": {
          "base_uri": "https://localhost:8080/"
        },
        "id": "6OgGRDm_UE9G",
        "outputId": "ec74c660-46b9-42a1-8d6f-1cf83ef5e744"
      },
      "source": [
        "v1=torch.arange(1,10)\n",
        "print(v1)"
      ],
      "execution_count": null,
      "outputs": [
        {
          "output_type": "stream",
          "text": [
            "tensor([1, 2, 3, 4, 5, 6, 7, 8, 9])\n"
          ],
          "name": "stdout"
        }
      ]
    },
    {
      "cell_type": "code",
      "metadata": {
        "id": "N_7jBlvqURZJ"
      },
      "source": [
        "x=torch.rand(2,3)\n",
        "z=torch.cat((x,x),1)"
      ],
      "execution_count": null,
      "outputs": []
    },
    {
      "cell_type": "code",
      "metadata": {
        "colab": {
          "base_uri": "https://localhost:8080/"
        },
        "id": "xMTot02gWg7i",
        "outputId": "aecadf9a-31be-4a80-8ad7-31e581616763"
      },
      "source": [
        "z"
      ],
      "execution_count": null,
      "outputs": [
        {
          "output_type": "execute_result",
          "data": {
            "text/plain": [
              "tensor([[0.2144, 0.1280, 0.5235, 0.2144, 0.1280, 0.5235],\n",
              "        [0.4917, 0.1376, 0.5542, 0.4917, 0.1376, 0.5542]])"
            ]
          },
          "metadata": {
            "tags": []
          },
          "execution_count": 15
        }
      ]
    },
    {
      "cell_type": "code",
      "metadata": {
        "colab": {
          "base_uri": "https://localhost:8080/"
        },
        "id": "otm8zPoLWhgJ",
        "outputId": "1beb4230-3ee7-489a-a078-0e5272661426"
      },
      "source": [
        "p=torch.chunk(v1,3)\n",
        "p"
      ],
      "execution_count": null,
      "outputs": [
        {
          "output_type": "execute_result",
          "data": {
            "text/plain": [
              "(tensor([1, 2, 3]), tensor([4, 5, 6]), tensor([7, 8, 9]))"
            ]
          },
          "metadata": {
            "tags": []
          },
          "execution_count": 23
        }
      ]
    },
    {
      "cell_type": "code",
      "metadata": {
        "colab": {
          "base_uri": "https://localhost:8080/"
        },
        "id": "-ykvcg3KXPlC",
        "outputId": "7a37acf3-7e73-4e15-9690-198ff4cc3b7a"
      },
      "source": [
        "x=torch.tensor([1,11,111,1111])\n",
        "y=torch.tensor([2,22,222,2222])\n",
        "z=torch.tensor([3,33,333,3333])\n",
        "\n",
        "\n",
        "a=torch.dstack((x,y,z))\n",
        "a"
      ],
      "execution_count": null,
      "outputs": [
        {
          "output_type": "execute_result",
          "data": {
            "text/plain": [
              "tensor([[[   1,    2,    3],\n",
              "         [  11,   22,   33],\n",
              "         [ 111,  222,  333],\n",
              "         [1111, 2222, 3333]]])"
            ]
          },
          "metadata": {
            "tags": []
          },
          "execution_count": 24
        }
      ]
    },
    {
      "cell_type": "code",
      "metadata": {
        "colab": {
          "base_uri": "https://localhost:8080/"
        },
        "id": "IpYpHLGPY1VS",
        "outputId": "f7ce16a0-1b5b-49c2-ca53-d568d7c3d4b7"
      },
      "source": [
        "z=torch.hstack((x,y,z))\n",
        "z"
      ],
      "execution_count": null,
      "outputs": [
        {
          "output_type": "execute_result",
          "data": {
            "text/plain": [
              "tensor([   1,   11,  111, 1111,    2,   22,  222, 2222,    1,   11,  111, 1111,\n",
              "           2,   22,  222, 2222,    3,   33,  333, 3333])"
            ]
          },
          "metadata": {
            "tags": []
          },
          "execution_count": 26
        }
      ]
    },
    {
      "cell_type": "code",
      "metadata": {
        "colab": {
          "base_uri": "https://localhost:8080/"
        },
        "id": "jOrmuDOlY9jy",
        "outputId": "57430d46-98eb-4f42-a22d-b64ced494fad"
      },
      "source": [
        "g=torch.randn(size=(3,3))\n",
        "g"
      ],
      "execution_count": null,
      "outputs": [
        {
          "output_type": "execute_result",
          "data": {
            "text/plain": [
              "tensor([[ 0.4717, -0.2438,  0.4300],\n",
              "        [ 0.6205, -0.1656,  1.5217],\n",
              "        [ 0.1492,  1.0504,  0.1096]])"
            ]
          },
          "metadata": {
            "tags": []
          },
          "execution_count": 37
        }
      ]
    },
    {
      "cell_type": "code",
      "metadata": {
        "colab": {
          "base_uri": "https://localhost:8080/"
        },
        "id": "Ud1PDuj2ahkU",
        "outputId": "3e22b7f7-109e-4630-861c-2bd65c2cf42e"
      },
      "source": [
        "indices= torch.tensor([0,1])\n",
        "torch.index_select(g,0,indices)"
      ],
      "execution_count": null,
      "outputs": [
        {
          "output_type": "execute_result",
          "data": {
            "text/plain": [
              "tensor([[ 0.4717, -0.2438,  0.4300],\n",
              "        [ 0.6205, -0.1656,  1.5217]])"
            ]
          },
          "metadata": {
            "tags": []
          },
          "execution_count": 41
        }
      ]
    },
    {
      "cell_type": "code",
      "metadata": {
        "colab": {
          "base_uri": "https://localhost:8080/"
        },
        "id": "6k2nm-WUa6gO",
        "outputId": "6125604c-dc75-4d74-bddc-f40ccfd323be"
      },
      "source": [
        " x = torch.tensor([[1, 2, 3], [4, 5, 6], [7, 8, 9]])\n",
        " x"
      ],
      "execution_count": null,
      "outputs": [
        {
          "output_type": "execute_result",
          "data": {
            "text/plain": [
              "tensor([[1, 2, 3],\n",
              "        [4, 5, 6],\n",
              "        [7, 8, 9]])"
            ]
          },
          "metadata": {
            "tags": []
          },
          "execution_count": 42
        }
      ]
    },
    {
      "cell_type": "code",
      "metadata": {
        "colab": {
          "base_uri": "https://localhost:8080/"
        },
        "id": "0nOk-ugCa-LL",
        "outputId": "010c1eca-cd30-4ad8-820a-7a52cd0c2346"
      },
      "source": [
        "torch.narrow(x,0,0,2)"
      ],
      "execution_count": null,
      "outputs": [
        {
          "output_type": "execute_result",
          "data": {
            "text/plain": [
              "tensor([[1, 2, 3],\n",
              "        [4, 5, 6]])"
            ]
          },
          "metadata": {
            "tags": []
          },
          "execution_count": 52
        }
      ]
    },
    {
      "cell_type": "code",
      "metadata": {
        "colab": {
          "base_uri": "https://localhost:8080/"
        },
        "id": "tg8-IWAZa_Oi",
        "outputId": "c6e3c799-bbc9-4b21-bc2a-47963afa7d02"
      },
      "source": [
        "torch.narrow(x,1,0,2)"
      ],
      "execution_count": null,
      "outputs": [
        {
          "output_type": "execute_result",
          "data": {
            "text/plain": [
              "tensor([[1, 2],\n",
              "        [4, 5],\n",
              "        [7, 8]])"
            ]
          },
          "metadata": {
            "tags": []
          },
          "execution_count": 50
        }
      ]
    },
    {
      "cell_type": "code",
      "metadata": {
        "id": "nWO37U2Ndr6O"
      },
      "source": [
        "z=torch.randn((2,4))"
      ],
      "execution_count": null,
      "outputs": []
    },
    {
      "cell_type": "code",
      "metadata": {
        "colab": {
          "base_uri": "https://localhost:8080/"
        },
        "id": "B-jokDzkeVaH",
        "outputId": "c96e2d53-edce-49c6-a7ac-3b2f8182915a"
      },
      "source": [
        "torch.reshape(z,(4,2))"
      ],
      "execution_count": null,
      "outputs": [
        {
          "output_type": "execute_result",
          "data": {
            "text/plain": [
              "tensor([[-1.4313, -0.8502],\n",
              "        [-0.0611,  0.9480],\n",
              "        [-1.0807,  1.2921],\n",
              "        [ 0.0779, -0.1566]])"
            ]
          },
          "metadata": {
            "tags": []
          },
          "execution_count": 54
        }
      ]
    },
    {
      "cell_type": "code",
      "metadata": {
        "colab": {
          "base_uri": "https://localhost:8080/"
        },
        "id": "XdeZy-l7ek-b",
        "outputId": "73554156-e6d1-4dd6-99c8-4ee7c05e3503"
      },
      "source": [
        "torch.reshape(z,(-1,))"
      ],
      "execution_count": null,
      "outputs": [
        {
          "output_type": "execute_result",
          "data": {
            "text/plain": [
              "tensor([-1.4313, -0.8502, -0.0611,  0.9480, -1.0807,  1.2921,  0.0779, -0.1566])"
            ]
          },
          "metadata": {
            "tags": []
          },
          "execution_count": 56
        }
      ]
    },
    {
      "cell_type": "code",
      "metadata": {
        "colab": {
          "base_uri": "https://localhost:8080/"
        },
        "id": "wmPBShjnepb0",
        "outputId": "18c86d46-8c51-4bbb-a242-30495e81192c"
      },
      "source": [
        "torch.split(z,2)"
      ],
      "execution_count": null,
      "outputs": [
        {
          "output_type": "execute_result",
          "data": {
            "text/plain": [
              "(tensor([[-1.4313, -0.8502, -0.0611,  0.9480],\n",
              "         [-1.0807,  1.2921,  0.0779, -0.1566]]),)"
            ]
          },
          "metadata": {
            "tags": []
          },
          "execution_count": 59
        }
      ]
    },
    {
      "cell_type": "code",
      "metadata": {
        "colab": {
          "base_uri": "https://localhost:8080/"
        },
        "id": "9FDLccxYfCpb",
        "outputId": "66bb8ad2-ead9-4d3c-9a2b-b74a303dc3d4"
      },
      "source": [
        "torch.split(z[0],[1,3])"
      ],
      "execution_count": null,
      "outputs": [
        {
          "output_type": "execute_result",
          "data": {
            "text/plain": [
              "(tensor([-1.4313]), tensor([-0.8502, -0.0611,  0.9480]))"
            ]
          },
          "metadata": {
            "tags": []
          },
          "execution_count": 60
        }
      ]
    },
    {
      "cell_type": "code",
      "metadata": {
        "id": "cjP9lmglfT10"
      },
      "source": [
        "x = torch.zeros(2, 1, 2, 1, 2)\n",
        "x"
      ],
      "execution_count": null,
      "outputs": []
    },
    {
      "cell_type": "code",
      "metadata": {
        "id": "I5lqNRe_gpnM"
      },
      "source": [
        "y=torch.squeeze(x)\n",
        "y"
      ],
      "execution_count": null,
      "outputs": []
    },
    {
      "cell_type": "code",
      "metadata": {
        "colab": {
          "base_uri": "https://localhost:8080/"
        },
        "id": "g487b1RyhXYw",
        "outputId": "5f28b690-dc94-434d-a815-d507ad0cab1e"
      },
      "source": [
        "z"
      ],
      "execution_count": null,
      "outputs": [
        {
          "output_type": "execute_result",
          "data": {
            "text/plain": [
              "tensor([[-1.1281,  1.8095,  0.7791, -0.0798],\n",
              "        [ 0.6227, -0.9656,  0.4888, -0.8167]])"
            ]
          },
          "metadata": {
            "tags": []
          },
          "execution_count": 67
        }
      ]
    },
    {
      "cell_type": "code",
      "metadata": {
        "colab": {
          "base_uri": "https://localhost:8080/"
        },
        "id": "Fo3R96yegtgD",
        "outputId": "3b013786-07f5-4768-cc95-9f10ddec7448"
      },
      "source": [
        "src = torch.tensor([[4, 3, 5],\n",
        "                        [6, 7, 8]])\n",
        "torch.take(z, torch.tensor([0, 2, 5]))"
      ],
      "execution_count": null,
      "outputs": [
        {
          "output_type": "execute_result",
          "data": {
            "text/plain": [
              "tensor([-1.1281,  0.7791, -0.9656])"
            ]
          },
          "metadata": {
            "tags": []
          },
          "execution_count": 69
        }
      ]
    },
    {
      "cell_type": "code",
      "metadata": {
        "colab": {
          "base_uri": "https://localhost:8080/"
        },
        "id": "1mUeK677hVjk",
        "outputId": "02869564-0e96-4be7-8de9-6150a0cbf36c"
      },
      "source": [
        "print(z)\n",
        "tz=torch.transpose(z,0,1)\n",
        "print(tz)"
      ],
      "execution_count": null,
      "outputs": [
        {
          "output_type": "stream",
          "text": [
            "tensor([[-1.1281,  1.8095,  0.7791, -0.0798],\n",
            "        [ 0.6227, -0.9656,  0.4888, -0.8167]])\n",
            "tensor([[-1.1281,  0.6227],\n",
            "        [ 1.8095, -0.9656],\n",
            "        [ 0.7791,  0.4888],\n",
            "        [-0.0798, -0.8167]])\n"
          ],
          "name": "stdout"
        }
      ]
    },
    {
      "cell_type": "code",
      "metadata": {
        "colab": {
          "base_uri": "https://localhost:8080/"
        },
        "id": "fPPnpdxtinmN",
        "outputId": "ab8e3391-3710-4349-c089-eb1e19bec1b7"
      },
      "source": [
        "z=torch.randn(20)\n",
        "\n",
        "torch.unsqueeze(z,0)"
      ],
      "execution_count": null,
      "outputs": [
        {
          "output_type": "execute_result",
          "data": {
            "text/plain": [
              "tensor([[ 0.3552,  0.5287,  0.2296,  0.6659,  0.0859, -0.6740, -0.0729, -0.8185,\n",
              "          0.4527, -0.6840,  2.1190, -1.0108, -1.3610,  0.1997, -1.7407,  0.3037,\n",
              "         -0.3642, -0.9036, -0.5357,  0.9127]])"
            ]
          },
          "metadata": {
            "tags": []
          },
          "execution_count": 76
        }
      ]
    },
    {
      "cell_type": "code",
      "metadata": {
        "colab": {
          "base_uri": "https://localhost:8080/"
        },
        "id": "UgfC10H3jdAc",
        "outputId": "d5210d3a-7f50-47e4-8e04-f9a555373bac"
      },
      "source": [
        "a=torch.tensor([1,3,9])\n",
        "b=torch.tensor([2,6,10])\n",
        "\n",
        "torch.vstack((a,b))"
      ],
      "execution_count": null,
      "outputs": [
        {
          "output_type": "execute_result",
          "data": {
            "text/plain": [
              "tensor([[ 1,  3,  9],\n",
              "        [ 2,  6, 10]])"
            ]
          },
          "metadata": {
            "tags": []
          },
          "execution_count": 80
        }
      ]
    },
    {
      "cell_type": "code",
      "metadata": {
        "colab": {
          "base_uri": "https://localhost:8080/"
        },
        "id": "fsy2U4XEj9xi",
        "outputId": "fa3b8365-9522-47bd-8ce2-6f9c88cc8686"
      },
      "source": [
        "a=torch.tensor([[1],[2],[3]])\n",
        "b=torch.tensor([[4],[5],[6]])\n",
        "\n",
        "torch.vstack((a,b))"
      ],
      "execution_count": null,
      "outputs": [
        {
          "output_type": "execute_result",
          "data": {
            "text/plain": [
              "tensor([[1],\n",
              "        [2],\n",
              "        [3],\n",
              "        [4],\n",
              "        [5],\n",
              "        [6]])"
            ]
          },
          "metadata": {
            "tags": []
          },
          "execution_count": 79
        }
      ]
    },
    {
      "cell_type": "code",
      "metadata": {
        "colab": {
          "base_uri": "https://localhost:8080/"
        },
        "id": "OsbgtQnskRmc",
        "outputId": "7b771188-20b6-4901-c867-24837e58bc5f"
      },
      "source": [
        "x=torch.randn((3,2))\n",
        "y=torch.ones((3,2))\n",
        "print(x)\n",
        "print(y)"
      ],
      "execution_count": null,
      "outputs": [
        {
          "output_type": "stream",
          "text": [
            "tensor([[ 1.8440,  0.0987],\n",
            "        [ 0.9712, -2.3696],\n",
            "        [ 0.4552, -0.7348]])\n",
            "tensor([[1., 1.],\n",
            "        [1., 1.],\n",
            "        [1., 1.]])\n"
          ],
          "name": "stdout"
        }
      ]
    },
    {
      "cell_type": "code",
      "metadata": {
        "colab": {
          "base_uri": "https://localhost:8080/"
        },
        "id": "cVWBJiThkz_d",
        "outputId": "1e1973bb-6bf3-419b-eeb5-a10c0b869e6b"
      },
      "source": [
        "torch.where(x>1,x,y)"
      ],
      "execution_count": null,
      "outputs": [
        {
          "output_type": "execute_result",
          "data": {
            "text/plain": [
              "tensor([[1.8440, 1.0000],\n",
              "        [1.0000, 1.0000],\n",
              "        [1.0000, 1.0000]])"
            ]
          },
          "metadata": {
            "tags": []
          },
          "execution_count": 86
        }
      ]
    },
    {
      "cell_type": "code",
      "metadata": {
        "colab": {
          "base_uri": "https://localhost:8080/"
        },
        "id": "iXy1hgepk8xl",
        "outputId": "ae660846-f868-4746-9008-c4c0cd30feac"
      },
      "source": [
        "torch.where(x>1,y,x)"
      ],
      "execution_count": null,
      "outputs": [
        {
          "output_type": "execute_result",
          "data": {
            "text/plain": [
              "tensor([[ 1.0000,  0.0987],\n",
              "        [ 0.9712, -2.3696],\n",
              "        [ 0.4552, -0.7348]])"
            ]
          },
          "metadata": {
            "tags": []
          },
          "execution_count": 84
        }
      ]
    },
    {
      "cell_type": "code",
      "metadata": {
        "id": "HA_Tpst9lEMF",
        "colab": {
          "base_uri": "https://localhost:8080/"
        },
        "outputId": "e9cf7071-7433-44b2-86f6-9048afeb10ad"
      },
      "source": [
        "torch.randint(3,10,(3,4))"
      ],
      "execution_count": null,
      "outputs": [
        {
          "output_type": "execute_result",
          "data": {
            "text/plain": [
              "tensor([[7, 9, 7, 6],\n",
              "        [9, 8, 5, 3],\n",
              "        [4, 3, 7, 5]])"
            ]
          },
          "metadata": {
            "tags": []
          },
          "execution_count": 88
        }
      ]
    },
    {
      "cell_type": "code",
      "metadata": {
        "id": "NYpfOrhXmpd4"
      },
      "source": [
        ""
      ],
      "execution_count": null,
      "outputs": []
    }
  ]
}